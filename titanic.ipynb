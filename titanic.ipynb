{
 "cells": [
  {
   "cell_type": "markdown",
   "id": "ed61000f",
   "metadata": {
    "papermill": {
     "duration": 0.05264,
     "end_time": "2022-01-26T19:15:40.335746",
     "exception": false,
     "start_time": "2022-01-26T19:15:40.283106",
     "status": "completed"
    },
    "tags": []
   },
   "source": [
    "## Titanic - Machine Learning from Disaster\n",
    "- Predict survival on the Titanic and get familiar with ML basics"
   ]
  },
  {
   "cell_type": "markdown",
   "id": "f91b3a53",
   "metadata": {
    "papermill": {
     "duration": 0.054326,
     "end_time": "2022-01-26T19:15:40.442460",
     "exception": false,
     "start_time": "2022-01-26T19:15:40.388134",
     "status": "completed"
    },
    "tags": []
   },
   "source": [
    "### Data Exploration"
   ]
  },
  {
   "cell_type": "code",
   "execution_count": 1,
   "id": "051e7c4b",
   "metadata": {
    "execution": {
     "iopub.execute_input": "2022-01-26T19:15:40.561105Z",
     "iopub.status.busy": "2022-01-26T19:15:40.556015Z",
     "iopub.status.idle": "2022-01-26T19:15:43.570714Z",
     "shell.execute_reply": "2022-01-26T19:15:43.570094Z",
     "shell.execute_reply.started": "2022-01-26T17:35:23.279554Z"
    },
    "papermill": {
     "duration": 3.077433,
     "end_time": "2022-01-26T19:15:43.570854",
     "exception": false,
     "start_time": "2022-01-26T19:15:40.493421",
     "status": "completed"
    },
    "tags": []
   },
   "outputs": [],
   "source": [
    "#Importing the basic librarires\n",
    "\n",
    "import numpy as np\n",
    "import pandas as pd\n",
    "import seaborn as sns\n",
    "import datetime as dt\n",
    "import matplotlib.pyplot as plt\n",
    "from sklearn.linear_model import LinearRegression\n",
    "from sklearn.linear_model import LogisticRegression\n",
    "from sklearn.model_selection import train_test_split\n",
    "from sklearn.metrics import mean_absolute_error\n",
    "from sklearn.impute import SimpleImputer\n",
    "from sklearn.tree import DecisionTreeRegressor\n",
    "from sklearn.ensemble import RandomForestRegressor\n",
    "%matplotlib inline\n",
    "import plotly.graph_objects as go\n",
    "import plotly.express as px"
   ]
  },
  {
   "cell_type": "code",
   "execution_count": 2,
   "id": "dd9a0082",
   "metadata": {
    "execution": {
     "iopub.execute_input": "2022-01-26T19:15:43.643691Z",
     "iopub.status.busy": "2022-01-26T19:15:43.642998Z",
     "iopub.status.idle": "2022-01-26T19:15:43.682070Z",
     "shell.execute_reply": "2022-01-26T19:15:43.682486Z",
     "shell.execute_reply.started": "2022-01-26T17:36:52.630956Z"
    },
    "papermill": {
     "duration": 0.076451,
     "end_time": "2022-01-26T19:15:43.682806",
     "exception": false,
     "start_time": "2022-01-26T19:15:43.606355",
     "status": "completed"
    },
    "tags": []
   },
   "outputs": [],
   "source": [
    "#Importing the dataset -Train & Test\n",
    "train =pd.read_csv(\"../input/titanic/train.csv\")\n",
    "test =pd.read_csv(\"../input/titanic/test.csv\")\n"
   ]
  },
  {
   "cell_type": "code",
   "execution_count": 3,
   "id": "c08062f2",
   "metadata": {
    "execution": {
     "iopub.execute_input": "2022-01-26T19:15:43.754586Z",
     "iopub.status.busy": "2022-01-26T19:15:43.753878Z",
     "iopub.status.idle": "2022-01-26T19:15:43.777314Z",
     "shell.execute_reply": "2022-01-26T19:15:43.776699Z",
     "shell.execute_reply.started": "2022-01-26T17:37:20.671270Z"
    },
    "papermill": {
     "duration": 0.060376,
     "end_time": "2022-01-26T19:15:43.777463",
     "exception": false,
     "start_time": "2022-01-26T19:15:43.717087",
     "status": "completed"
    },
    "tags": []
   },
   "outputs": [
    {
     "data": {
      "text/html": [
       "<div>\n",
       "<style scoped>\n",
       "    .dataframe tbody tr th:only-of-type {\n",
       "        vertical-align: middle;\n",
       "    }\n",
       "\n",
       "    .dataframe tbody tr th {\n",
       "        vertical-align: top;\n",
       "    }\n",
       "\n",
       "    .dataframe thead th {\n",
       "        text-align: right;\n",
       "    }\n",
       "</style>\n",
       "<table border=\"1\" class=\"dataframe\">\n",
       "  <thead>\n",
       "    <tr style=\"text-align: right;\">\n",
       "      <th></th>\n",
       "      <th>PassengerId</th>\n",
       "      <th>Survived</th>\n",
       "      <th>Pclass</th>\n",
       "      <th>Name</th>\n",
       "      <th>Sex</th>\n",
       "      <th>Age</th>\n",
       "      <th>SibSp</th>\n",
       "      <th>Parch</th>\n",
       "      <th>Ticket</th>\n",
       "      <th>Fare</th>\n",
       "      <th>Cabin</th>\n",
       "      <th>Embarked</th>\n",
       "    </tr>\n",
       "  </thead>\n",
       "  <tbody>\n",
       "    <tr>\n",
       "      <th>0</th>\n",
       "      <td>1</td>\n",
       "      <td>0</td>\n",
       "      <td>3</td>\n",
       "      <td>Braund, Mr. Owen Harris</td>\n",
       "      <td>male</td>\n",
       "      <td>22.0</td>\n",
       "      <td>1</td>\n",
       "      <td>0</td>\n",
       "      <td>A/5 21171</td>\n",
       "      <td>7.2500</td>\n",
       "      <td>NaN</td>\n",
       "      <td>S</td>\n",
       "    </tr>\n",
       "    <tr>\n",
       "      <th>1</th>\n",
       "      <td>2</td>\n",
       "      <td>1</td>\n",
       "      <td>1</td>\n",
       "      <td>Cumings, Mrs. John Bradley (Florence Briggs Th...</td>\n",
       "      <td>female</td>\n",
       "      <td>38.0</td>\n",
       "      <td>1</td>\n",
       "      <td>0</td>\n",
       "      <td>PC 17599</td>\n",
       "      <td>71.2833</td>\n",
       "      <td>C85</td>\n",
       "      <td>C</td>\n",
       "    </tr>\n",
       "    <tr>\n",
       "      <th>2</th>\n",
       "      <td>3</td>\n",
       "      <td>1</td>\n",
       "      <td>3</td>\n",
       "      <td>Heikkinen, Miss. Laina</td>\n",
       "      <td>female</td>\n",
       "      <td>26.0</td>\n",
       "      <td>0</td>\n",
       "      <td>0</td>\n",
       "      <td>STON/O2. 3101282</td>\n",
       "      <td>7.9250</td>\n",
       "      <td>NaN</td>\n",
       "      <td>S</td>\n",
       "    </tr>\n",
       "    <tr>\n",
       "      <th>3</th>\n",
       "      <td>4</td>\n",
       "      <td>1</td>\n",
       "      <td>1</td>\n",
       "      <td>Futrelle, Mrs. Jacques Heath (Lily May Peel)</td>\n",
       "      <td>female</td>\n",
       "      <td>35.0</td>\n",
       "      <td>1</td>\n",
       "      <td>0</td>\n",
       "      <td>113803</td>\n",
       "      <td>53.1000</td>\n",
       "      <td>C123</td>\n",
       "      <td>S</td>\n",
       "    </tr>\n",
       "    <tr>\n",
       "      <th>4</th>\n",
       "      <td>5</td>\n",
       "      <td>0</td>\n",
       "      <td>3</td>\n",
       "      <td>Allen, Mr. William Henry</td>\n",
       "      <td>male</td>\n",
       "      <td>35.0</td>\n",
       "      <td>0</td>\n",
       "      <td>0</td>\n",
       "      <td>373450</td>\n",
       "      <td>8.0500</td>\n",
       "      <td>NaN</td>\n",
       "      <td>S</td>\n",
       "    </tr>\n",
       "  </tbody>\n",
       "</table>\n",
       "</div>"
      ],
      "text/plain": [
       "   PassengerId  Survived  Pclass  \\\n",
       "0            1         0       3   \n",
       "1            2         1       1   \n",
       "2            3         1       3   \n",
       "3            4         1       1   \n",
       "4            5         0       3   \n",
       "\n",
       "                                                Name     Sex   Age  SibSp  \\\n",
       "0                            Braund, Mr. Owen Harris    male  22.0      1   \n",
       "1  Cumings, Mrs. John Bradley (Florence Briggs Th...  female  38.0      1   \n",
       "2                             Heikkinen, Miss. Laina  female  26.0      0   \n",
       "3       Futrelle, Mrs. Jacques Heath (Lily May Peel)  female  35.0      1   \n",
       "4                           Allen, Mr. William Henry    male  35.0      0   \n",
       "\n",
       "   Parch            Ticket     Fare Cabin Embarked  \n",
       "0      0         A/5 21171   7.2500   NaN        S  \n",
       "1      0          PC 17599  71.2833   C85        C  \n",
       "2      0  STON/O2. 3101282   7.9250   NaN        S  \n",
       "3      0            113803  53.1000  C123        S  \n",
       "4      0            373450   8.0500   NaN        S  "
      ]
     },
     "execution_count": 3,
     "metadata": {},
     "output_type": "execute_result"
    }
   ],
   "source": [
    "# look the data set - train\n",
    "train.head()"
   ]
  },
  {
   "cell_type": "code",
   "execution_count": 4,
   "id": "9e8a18f2",
   "metadata": {
    "execution": {
     "iopub.execute_input": "2022-01-26T19:15:43.897289Z",
     "iopub.status.busy": "2022-01-26T19:15:43.896423Z",
     "iopub.status.idle": "2022-01-26T19:15:43.901125Z",
     "shell.execute_reply": "2022-01-26T19:15:43.900414Z",
     "shell.execute_reply.started": "2022-01-26T17:37:57.082462Z"
    },
    "papermill": {
     "duration": 0.071706,
     "end_time": "2022-01-26T19:15:43.901269",
     "exception": false,
     "start_time": "2022-01-26T19:15:43.829563",
     "status": "completed"
    },
    "tags": []
   },
   "outputs": [
    {
     "data": {
      "text/html": [
       "<div>\n",
       "<style scoped>\n",
       "    .dataframe tbody tr th:only-of-type {\n",
       "        vertical-align: middle;\n",
       "    }\n",
       "\n",
       "    .dataframe tbody tr th {\n",
       "        vertical-align: top;\n",
       "    }\n",
       "\n",
       "    .dataframe thead th {\n",
       "        text-align: right;\n",
       "    }\n",
       "</style>\n",
       "<table border=\"1\" class=\"dataframe\">\n",
       "  <thead>\n",
       "    <tr style=\"text-align: right;\">\n",
       "      <th></th>\n",
       "      <th>PassengerId</th>\n",
       "      <th>Pclass</th>\n",
       "      <th>Name</th>\n",
       "      <th>Sex</th>\n",
       "      <th>Age</th>\n",
       "      <th>SibSp</th>\n",
       "      <th>Parch</th>\n",
       "      <th>Ticket</th>\n",
       "      <th>Fare</th>\n",
       "      <th>Cabin</th>\n",
       "      <th>Embarked</th>\n",
       "    </tr>\n",
       "  </thead>\n",
       "  <tbody>\n",
       "    <tr>\n",
       "      <th>0</th>\n",
       "      <td>892</td>\n",
       "      <td>3</td>\n",
       "      <td>Kelly, Mr. James</td>\n",
       "      <td>male</td>\n",
       "      <td>34.5</td>\n",
       "      <td>0</td>\n",
       "      <td>0</td>\n",
       "      <td>330911</td>\n",
       "      <td>7.8292</td>\n",
       "      <td>NaN</td>\n",
       "      <td>Q</td>\n",
       "    </tr>\n",
       "    <tr>\n",
       "      <th>1</th>\n",
       "      <td>893</td>\n",
       "      <td>3</td>\n",
       "      <td>Wilkes, Mrs. James (Ellen Needs)</td>\n",
       "      <td>female</td>\n",
       "      <td>47.0</td>\n",
       "      <td>1</td>\n",
       "      <td>0</td>\n",
       "      <td>363272</td>\n",
       "      <td>7.0000</td>\n",
       "      <td>NaN</td>\n",
       "      <td>S</td>\n",
       "    </tr>\n",
       "    <tr>\n",
       "      <th>2</th>\n",
       "      <td>894</td>\n",
       "      <td>2</td>\n",
       "      <td>Myles, Mr. Thomas Francis</td>\n",
       "      <td>male</td>\n",
       "      <td>62.0</td>\n",
       "      <td>0</td>\n",
       "      <td>0</td>\n",
       "      <td>240276</td>\n",
       "      <td>9.6875</td>\n",
       "      <td>NaN</td>\n",
       "      <td>Q</td>\n",
       "    </tr>\n",
       "    <tr>\n",
       "      <th>3</th>\n",
       "      <td>895</td>\n",
       "      <td>3</td>\n",
       "      <td>Wirz, Mr. Albert</td>\n",
       "      <td>male</td>\n",
       "      <td>27.0</td>\n",
       "      <td>0</td>\n",
       "      <td>0</td>\n",
       "      <td>315154</td>\n",
       "      <td>8.6625</td>\n",
       "      <td>NaN</td>\n",
       "      <td>S</td>\n",
       "    </tr>\n",
       "    <tr>\n",
       "      <th>4</th>\n",
       "      <td>896</td>\n",
       "      <td>3</td>\n",
       "      <td>Hirvonen, Mrs. Alexander (Helga E Lindqvist)</td>\n",
       "      <td>female</td>\n",
       "      <td>22.0</td>\n",
       "      <td>1</td>\n",
       "      <td>1</td>\n",
       "      <td>3101298</td>\n",
       "      <td>12.2875</td>\n",
       "      <td>NaN</td>\n",
       "      <td>S</td>\n",
       "    </tr>\n",
       "  </tbody>\n",
       "</table>\n",
       "</div>"
      ],
      "text/plain": [
       "   PassengerId  Pclass                                          Name     Sex  \\\n",
       "0          892       3                              Kelly, Mr. James    male   \n",
       "1          893       3              Wilkes, Mrs. James (Ellen Needs)  female   \n",
       "2          894       2                     Myles, Mr. Thomas Francis    male   \n",
       "3          895       3                              Wirz, Mr. Albert    male   \n",
       "4          896       3  Hirvonen, Mrs. Alexander (Helga E Lindqvist)  female   \n",
       "\n",
       "    Age  SibSp  Parch   Ticket     Fare Cabin Embarked  \n",
       "0  34.5      0      0   330911   7.8292   NaN        Q  \n",
       "1  47.0      1      0   363272   7.0000   NaN        S  \n",
       "2  62.0      0      0   240276   9.6875   NaN        Q  \n",
       "3  27.0      0      0   315154   8.6625   NaN        S  \n",
       "4  22.0      1      1  3101298  12.2875   NaN        S  "
      ]
     },
     "execution_count": 4,
     "metadata": {},
     "output_type": "execute_result"
    }
   ],
   "source": [
    "# look the data set - test\n",
    "test.head()"
   ]
  },
  {
   "cell_type": "code",
   "execution_count": 5,
   "id": "cc681af9",
   "metadata": {
    "execution": {
     "iopub.execute_input": "2022-01-26T19:15:44.012161Z",
     "iopub.status.busy": "2022-01-26T19:15:44.011448Z",
     "iopub.status.idle": "2022-01-26T19:15:44.018860Z",
     "shell.execute_reply": "2022-01-26T19:15:44.018104Z",
     "shell.execute_reply.started": "2022-01-26T17:39:44.591307Z"
    },
    "papermill": {
     "duration": 0.06528,
     "end_time": "2022-01-26T19:15:44.019026",
     "exception": false,
     "start_time": "2022-01-26T19:15:43.953746",
     "status": "completed"
    },
    "tags": []
   },
   "outputs": [
    {
     "name": "stdout",
     "output_type": "stream",
     "text": [
      "Shape Train DataSet  (891, 12)\n",
      "Shape Test  DataSet  (418, 11)\n"
     ]
    }
   ],
   "source": [
    "print(\"Shape Train DataSet \", train.shape )\n",
    "print(\"Shape Test  DataSet \", test.shape )"
   ]
  },
  {
   "cell_type": "code",
   "execution_count": 6,
   "id": "d06dc8eb",
   "metadata": {
    "execution": {
     "iopub.execute_input": "2022-01-26T19:15:44.150804Z",
     "iopub.status.busy": "2022-01-26T19:15:44.150035Z",
     "iopub.status.idle": "2022-01-26T19:15:44.154573Z",
     "shell.execute_reply": "2022-01-26T19:15:44.153540Z",
     "shell.execute_reply.started": "2022-01-26T17:40:14.241610Z"
    },
    "papermill": {
     "duration": 0.083048,
     "end_time": "2022-01-26T19:15:44.154916",
     "exception": false,
     "start_time": "2022-01-26T19:15:44.071868",
     "status": "completed"
    },
    "tags": []
   },
   "outputs": [
    {
     "name": "stdout",
     "output_type": "stream",
     "text": [
      "<class 'pandas.core.frame.DataFrame'>\n",
      "RangeIndex: 891 entries, 0 to 890\n",
      "Data columns (total 12 columns):\n",
      " #   Column       Non-Null Count  Dtype  \n",
      "---  ------       --------------  -----  \n",
      " 0   PassengerId  891 non-null    int64  \n",
      " 1   Survived     891 non-null    int64  \n",
      " 2   Pclass       891 non-null    int64  \n",
      " 3   Name         891 non-null    object \n",
      " 4   Sex          891 non-null    object \n",
      " 5   Age          714 non-null    float64\n",
      " 6   SibSp        891 non-null    int64  \n",
      " 7   Parch        891 non-null    int64  \n",
      " 8   Ticket       891 non-null    object \n",
      " 9   Fare         891 non-null    float64\n",
      " 10  Cabin        204 non-null    object \n",
      " 11  Embarked     889 non-null    object \n",
      "dtypes: float64(2), int64(5), object(5)\n",
      "memory usage: 83.7+ KB\n"
     ]
    }
   ],
   "source": [
    "#Checking the dtypes of all the columns\n",
    "\n",
    "train.info()"
   ]
  },
  {
   "cell_type": "code",
   "execution_count": 7,
   "id": "55498e94",
   "metadata": {
    "execution": {
     "iopub.execute_input": "2022-01-26T19:15:44.271685Z",
     "iopub.status.busy": "2022-01-26T19:15:44.270747Z",
     "iopub.status.idle": "2022-01-26T19:15:44.274813Z",
     "shell.execute_reply": "2022-01-26T19:15:44.274139Z",
     "shell.execute_reply.started": "2022-01-26T17:40:41.649442Z"
    },
    "papermill": {
     "duration": 0.066107,
     "end_time": "2022-01-26T19:15:44.274952",
     "exception": false,
     "start_time": "2022-01-26T19:15:44.208845",
     "status": "completed"
    },
    "tags": []
   },
   "outputs": [
    {
     "data": {
      "text/plain": [
       "PassengerId      0\n",
       "Survived         0\n",
       "Pclass           0\n",
       "Name             0\n",
       "Sex              0\n",
       "Age            177\n",
       "SibSp            0\n",
       "Parch            0\n",
       "Ticket           0\n",
       "Fare             0\n",
       "Cabin          687\n",
       "Embarked         2\n",
       "dtype: int64"
      ]
     },
     "execution_count": 7,
     "metadata": {},
     "output_type": "execute_result"
    }
   ],
   "source": [
    "#checking null value \n",
    "train.isna().sum()"
   ]
  },
  {
   "cell_type": "code",
   "execution_count": 8,
   "id": "71547cbc",
   "metadata": {
    "execution": {
     "iopub.execute_input": "2022-01-26T19:15:44.394809Z",
     "iopub.status.busy": "2022-01-26T19:15:44.394104Z",
     "iopub.status.idle": "2022-01-26T19:15:44.416723Z",
     "shell.execute_reply": "2022-01-26T19:15:44.417240Z",
     "shell.execute_reply.started": "2022-01-26T17:41:18.821061Z"
    },
    "papermill": {
     "duration": 0.087935,
     "end_time": "2022-01-26T19:15:44.417414",
     "exception": false,
     "start_time": "2022-01-26T19:15:44.329479",
     "status": "completed"
    },
    "tags": []
   },
   "outputs": [
    {
     "data": {
      "text/html": [
       "<div>\n",
       "<style scoped>\n",
       "    .dataframe tbody tr th:only-of-type {\n",
       "        vertical-align: middle;\n",
       "    }\n",
       "\n",
       "    .dataframe tbody tr th {\n",
       "        vertical-align: top;\n",
       "    }\n",
       "\n",
       "    .dataframe thead th {\n",
       "        text-align: right;\n",
       "    }\n",
       "</style>\n",
       "<table border=\"1\" class=\"dataframe\">\n",
       "  <thead>\n",
       "    <tr style=\"text-align: right;\">\n",
       "      <th></th>\n",
       "      <th>PassengerId</th>\n",
       "      <th>Survived</th>\n",
       "      <th>Pclass</th>\n",
       "      <th>Age</th>\n",
       "      <th>SibSp</th>\n",
       "      <th>Parch</th>\n",
       "      <th>Fare</th>\n",
       "    </tr>\n",
       "  </thead>\n",
       "  <tbody>\n",
       "    <tr>\n",
       "      <th>count</th>\n",
       "      <td>891.00</td>\n",
       "      <td>891.00</td>\n",
       "      <td>891.00</td>\n",
       "      <td>714.00</td>\n",
       "      <td>891.00</td>\n",
       "      <td>891.00</td>\n",
       "      <td>891.00</td>\n",
       "    </tr>\n",
       "    <tr>\n",
       "      <th>mean</th>\n",
       "      <td>446.00</td>\n",
       "      <td>0.38</td>\n",
       "      <td>2.31</td>\n",
       "      <td>29.70</td>\n",
       "      <td>0.52</td>\n",
       "      <td>0.38</td>\n",
       "      <td>32.20</td>\n",
       "    </tr>\n",
       "    <tr>\n",
       "      <th>std</th>\n",
       "      <td>257.35</td>\n",
       "      <td>0.49</td>\n",
       "      <td>0.84</td>\n",
       "      <td>14.53</td>\n",
       "      <td>1.10</td>\n",
       "      <td>0.81</td>\n",
       "      <td>49.69</td>\n",
       "    </tr>\n",
       "    <tr>\n",
       "      <th>min</th>\n",
       "      <td>1.00</td>\n",
       "      <td>0.00</td>\n",
       "      <td>1.00</td>\n",
       "      <td>0.42</td>\n",
       "      <td>0.00</td>\n",
       "      <td>0.00</td>\n",
       "      <td>0.00</td>\n",
       "    </tr>\n",
       "    <tr>\n",
       "      <th>25%</th>\n",
       "      <td>223.50</td>\n",
       "      <td>0.00</td>\n",
       "      <td>2.00</td>\n",
       "      <td>20.12</td>\n",
       "      <td>0.00</td>\n",
       "      <td>0.00</td>\n",
       "      <td>7.91</td>\n",
       "    </tr>\n",
       "    <tr>\n",
       "      <th>50%</th>\n",
       "      <td>446.00</td>\n",
       "      <td>0.00</td>\n",
       "      <td>3.00</td>\n",
       "      <td>28.00</td>\n",
       "      <td>0.00</td>\n",
       "      <td>0.00</td>\n",
       "      <td>14.45</td>\n",
       "    </tr>\n",
       "    <tr>\n",
       "      <th>75%</th>\n",
       "      <td>668.50</td>\n",
       "      <td>1.00</td>\n",
       "      <td>3.00</td>\n",
       "      <td>38.00</td>\n",
       "      <td>1.00</td>\n",
       "      <td>0.00</td>\n",
       "      <td>31.00</td>\n",
       "    </tr>\n",
       "    <tr>\n",
       "      <th>max</th>\n",
       "      <td>891.00</td>\n",
       "      <td>1.00</td>\n",
       "      <td>3.00</td>\n",
       "      <td>80.00</td>\n",
       "      <td>8.00</td>\n",
       "      <td>6.00</td>\n",
       "      <td>512.33</td>\n",
       "    </tr>\n",
       "  </tbody>\n",
       "</table>\n",
       "</div>"
      ],
      "text/plain": [
       "       PassengerId  Survived  Pclass     Age   SibSp   Parch    Fare\n",
       "count       891.00    891.00  891.00  714.00  891.00  891.00  891.00\n",
       "mean        446.00      0.38    2.31   29.70    0.52    0.38   32.20\n",
       "std         257.35      0.49    0.84   14.53    1.10    0.81   49.69\n",
       "min           1.00      0.00    1.00    0.42    0.00    0.00    0.00\n",
       "25%         223.50      0.00    2.00   20.12    0.00    0.00    7.91\n",
       "50%         446.00      0.00    3.00   28.00    0.00    0.00   14.45\n",
       "75%         668.50      1.00    3.00   38.00    1.00    0.00   31.00\n",
       "max         891.00      1.00    3.00   80.00    8.00    6.00  512.33"
      ]
     },
     "execution_count": 8,
     "metadata": {},
     "output_type": "execute_result"
    }
   ],
   "source": [
    "# look  describe data set\n",
    "train.describe().round(2)"
   ]
  },
  {
   "cell_type": "markdown",
   "id": "7fd1bbf8",
   "metadata": {
    "papermill": {
     "duration": 0.054645,
     "end_time": "2022-01-26T19:15:44.526726",
     "exception": false,
     "start_time": "2022-01-26T19:15:44.472081",
     "status": "completed"
    },
    "tags": []
   },
   "source": [
    "## let's make some cleaning DataSet - Train"
   ]
  },
  {
   "cell_type": "code",
   "execution_count": 9,
   "id": "9eb8eebc",
   "metadata": {
    "execution": {
     "iopub.execute_input": "2022-01-26T19:15:44.641328Z",
     "iopub.status.busy": "2022-01-26T19:15:44.640676Z",
     "iopub.status.idle": "2022-01-26T19:15:44.643156Z",
     "shell.execute_reply": "2022-01-26T19:15:44.643659Z",
     "shell.execute_reply.started": "2022-01-26T17:45:26.999631Z"
    },
    "papermill": {
     "duration": 0.061835,
     "end_time": "2022-01-26T19:15:44.643814",
     "exception": false,
     "start_time": "2022-01-26T19:15:44.581979",
     "status": "completed"
    },
    "tags": []
   },
   "outputs": [
    {
     "data": {
      "text/plain": [
       "29.69911764705882"
      ]
     },
     "execution_count": 9,
     "metadata": {},
     "output_type": "execute_result"
    }
   ],
   "source": [
    "# the mean Age\n",
    "train[\"Age\"].mean()"
   ]
  },
  {
   "cell_type": "code",
   "execution_count": 10,
   "id": "9e6c0668",
   "metadata": {
    "execution": {
     "iopub.execute_input": "2022-01-26T19:15:44.756911Z",
     "iopub.status.busy": "2022-01-26T19:15:44.756295Z",
     "iopub.status.idle": "2022-01-26T19:15:44.762127Z",
     "shell.execute_reply": "2022-01-26T19:15:44.762692Z",
     "shell.execute_reply.started": "2022-01-26T17:47:25.420412Z"
    },
    "papermill": {
     "duration": 0.064642,
     "end_time": "2022-01-26T19:15:44.762874",
     "exception": false,
     "start_time": "2022-01-26T19:15:44.698232",
     "status": "completed"
    },
    "tags": []
   },
   "outputs": [],
   "source": [
    "#fill the missing data [Age]= the mean = 29.7\n",
    "train[\"Age\"]=train[\"Age\"].fillna(value=29.7)"
   ]
  },
  {
   "cell_type": "code",
   "execution_count": 11,
   "id": "fe788f58",
   "metadata": {
    "execution": {
     "iopub.execute_input": "2022-01-26T19:15:44.880207Z",
     "iopub.status.busy": "2022-01-26T19:15:44.879384Z",
     "iopub.status.idle": "2022-01-26T19:15:44.882311Z",
     "shell.execute_reply": "2022-01-26T19:15:44.881794Z",
     "shell.execute_reply.started": "2022-01-26T17:49:40.059686Z"
    },
    "papermill": {
     "duration": 0.064124,
     "end_time": "2022-01-26T19:15:44.882444",
     "exception": false,
     "start_time": "2022-01-26T19:15:44.818320",
     "status": "completed"
    },
    "tags": []
   },
   "outputs": [],
   "source": [
    "#drop colume Cabin because have 687 non value , it`s not usful \n",
    "train.drop(columns=[\"Cabin\"], inplace=True)"
   ]
  },
  {
   "cell_type": "code",
   "execution_count": 12,
   "id": "2df23840",
   "metadata": {
    "execution": {
     "iopub.execute_input": "2022-01-26T19:15:45.001319Z",
     "iopub.status.busy": "2022-01-26T19:15:45.000659Z",
     "iopub.status.idle": "2022-01-26T19:15:45.002739Z",
     "shell.execute_reply": "2022-01-26T19:15:45.002098Z",
     "shell.execute_reply.started": "2022-01-26T18:03:13.999122Z"
    },
    "papermill": {
     "duration": 0.06598,
     "end_time": "2022-01-26T19:15:45.002886",
     "exception": false,
     "start_time": "2022-01-26T19:15:44.936906",
     "status": "completed"
    },
    "tags": []
   },
   "outputs": [],
   "source": [
    "# drop 2 value in colume Embarked - non value \n",
    "train.dropna(inplace=True)"
   ]
  },
  {
   "cell_type": "markdown",
   "id": "969cab80",
   "metadata": {
    "execution": {
     "iopub.execute_input": "2022-01-26T18:03:16.501262Z",
     "iopub.status.busy": "2022-01-26T18:03:16.500789Z",
     "iopub.status.idle": "2022-01-26T18:03:16.510638Z",
     "shell.execute_reply": "2022-01-26T18:03:16.510057Z",
     "shell.execute_reply.started": "2022-01-26T18:03:16.501213Z"
    },
    "papermill": {
     "duration": 0.054948,
     "end_time": "2022-01-26T19:15:45.113143",
     "exception": false,
     "start_time": "2022-01-26T19:15:45.058195",
     "status": "completed"
    },
    "tags": []
   },
   "source": [
    "### After make clean the dataset let`s start Analysis"
   ]
  },
  {
   "cell_type": "code",
   "execution_count": 13,
   "id": "823cbdea",
   "metadata": {
    "execution": {
     "iopub.execute_input": "2022-01-26T19:15:45.230415Z",
     "iopub.status.busy": "2022-01-26T19:15:45.229758Z",
     "iopub.status.idle": "2022-01-26T19:15:45.406432Z",
     "shell.execute_reply": "2022-01-26T19:15:45.406969Z",
     "shell.execute_reply.started": "2022-01-26T18:07:19.820363Z"
    },
    "papermill": {
     "duration": 0.238467,
     "end_time": "2022-01-26T19:15:45.407130",
     "exception": false,
     "start_time": "2022-01-26T19:15:45.168663",
     "status": "completed"
    },
    "tags": []
   },
   "outputs": [
    {
     "name": "stdout",
     "output_type": "stream",
     "text": [
      "0    0.617548\n",
      "1    0.382452\n",
      "Name: Survived, dtype: float64\n"
     ]
    },
    {
     "name": "stderr",
     "output_type": "stream",
     "text": [
      "/opt/conda/lib/python3.7/site-packages/seaborn/_decorators.py:43: FutureWarning: Pass the following variable as a keyword arg: x. From version 0.12, the only valid positional argument will be `data`, and passing other arguments without an explicit keyword will result in an error or misinterpretation.\n",
      "  FutureWarning\n"
     ]
    },
    {
     "data": {
      "text/plain": [
       "<AxesSubplot:xlabel='Survived', ylabel='count'>"
      ]
     },
     "execution_count": 13,
     "metadata": {},
     "output_type": "execute_result"
    },
    {
     "data": {
      "image/png": "[encoded data removed]",
      "text/plain": [
       "<Figure size 432x288 with 1 Axes>"
      ]
     },
     "metadata": {
      "needs_background": "light"
     },
     "output_type": "display_data"
    }
   ],
   "source": [
    "# How much the percentage - Survived or unsurvived at the dataset\n",
    "print(train[\"Survived\"].value_counts(normalize=True))\n",
    "sns.countplot(train[\"Survived\"])"
   ]
  },
  {
   "cell_type": "code",
   "execution_count": 14,
   "id": "6b5f3675",
   "metadata": {
    "execution": {
     "iopub.execute_input": "2022-01-26T19:15:45.526784Z",
     "iopub.status.busy": "2022-01-26T19:15:45.526013Z",
     "iopub.status.idle": "2022-01-26T19:15:45.677038Z",
     "shell.execute_reply": "2022-01-26T19:15:45.676347Z",
     "shell.execute_reply.started": "2022-01-26T18:08:09.311218Z"
    },
    "papermill": {
     "duration": 0.211422,
     "end_time": "2022-01-26T19:15:45.677204",
     "exception": false,
     "start_time": "2022-01-26T19:15:45.465782",
     "status": "completed"
    },
    "tags": []
   },
   "outputs": [
    {
     "name": "stdout",
     "output_type": "stream",
     "text": [
      "3    0.552306\n",
      "1    0.240720\n",
      "2    0.206974\n",
      "Name: Pclass, dtype: float64\n"
     ]
    },
    {
     "name": "stderr",
     "output_type": "stream",
     "text": [
      "/opt/conda/lib/python3.7/site-packages/seaborn/_decorators.py:43: FutureWarning: Pass the following variable as a keyword arg: x. From version 0.12, the only valid positional argument will be `data`, and passing other arguments without an explicit keyword will result in an error or misinterpretation.\n",
      "  FutureWarning\n"
     ]
    },
    {
     "data": {
      "text/plain": [
       "<AxesSubplot:xlabel='Pclass', ylabel='count'>"
      ]
     },
     "execution_count": 14,
     "metadata": {},
     "output_type": "execute_result"
    },
    {
     "data": {
      "image/png": "[encoded data removed]",
      "text/plain": [
       "<Figure size 432x288 with 1 Axes>"
      ]
     },
     "metadata": {
      "needs_background": "light"
     },
     "output_type": "display_data"
    }
   ],
   "source": [
    "# How much the percentage - Class at the dataset\n",
    "print(train[\"Pclass\"].value_counts(normalize=True))\n",
    "sns.countplot(train[\"Pclass\"])"
   ]
  },
  {
   "cell_type": "code",
   "execution_count": 15,
   "id": "d70cada3",
   "metadata": {
    "execution": {
     "iopub.execute_input": "2022-01-26T19:15:45.800541Z",
     "iopub.status.busy": "2022-01-26T19:15:45.799878Z",
     "iopub.status.idle": "2022-01-26T19:15:45.949359Z",
     "shell.execute_reply": "2022-01-26T19:15:45.950106Z",
     "shell.execute_reply.started": "2022-01-26T18:08:40.530457Z"
    },
    "papermill": {
     "duration": 0.212993,
     "end_time": "2022-01-26T19:15:45.950291",
     "exception": false,
     "start_time": "2022-01-26T19:15:45.737298",
     "status": "completed"
    },
    "tags": []
   },
   "outputs": [
    {
     "name": "stdout",
     "output_type": "stream",
     "text": [
      "male      0.649044\n",
      "female    0.350956\n",
      "Name: Sex, dtype: float64\n"
     ]
    },
    {
     "name": "stderr",
     "output_type": "stream",
     "text": [
      "/opt/conda/lib/python3.7/site-packages/seaborn/_decorators.py:43: FutureWarning: Pass the following variable as a keyword arg: x. From version 0.12, the only valid positional argument will be `data`, and passing other arguments without an explicit keyword will result in an error or misinterpretation.\n",
      "  FutureWarning\n"
     ]
    },
    {
     "data": {
      "text/plain": [
       "<AxesSubplot:xlabel='Sex', ylabel='count'>"
      ]
     },
     "execution_count": 15,
     "metadata": {},
     "output_type": "execute_result"
    },
    {
     "data": {
      "image/png": "[encoded data removed]",
      "text/plain": [
       "<Figure size 432x288 with 1 Axes>"
      ]
     },
     "metadata": {
      "needs_background": "light"
     },
     "output_type": "display_data"
    }
   ],
   "source": [
    "# How much the percentage - Sex at the dataset\n",
    "print(train[\"Sex\"].value_counts(normalize=True))\n",
    "sns.countplot(train[\"Sex\"])"
   ]
  },
  {
   "cell_type": "code",
   "execution_count": 16,
   "id": "5b2ee514",
   "metadata": {
    "execution": {
     "iopub.execute_input": "2022-01-26T19:15:46.082041Z",
     "iopub.status.busy": "2022-01-26T19:15:46.081164Z",
     "iopub.status.idle": "2022-01-26T19:15:46.223148Z",
     "shell.execute_reply": "2022-01-26T19:15:46.223903Z",
     "shell.execute_reply.started": "2022-01-26T18:10:05.680524Z"
    },
    "papermill": {
     "duration": 0.211371,
     "end_time": "2022-01-26T19:15:46.224091",
     "exception": false,
     "start_time": "2022-01-26T19:15:46.012720",
     "status": "completed"
    },
    "tags": []
   },
   "outputs": [
    {
     "data": {
      "image/png": "[encoded data removed]",
      "text/plain": [
       "<Figure size 432x288 with 1 Axes>"
      ]
     },
     "metadata": {
      "needs_background": "light"
     },
     "output_type": "display_data"
    }
   ],
   "source": [
    "# Age\n",
    "plt.boxplot(train[\"Age\"])\n",
    "plt.show()"
   ]
  },
  {
   "cell_type": "code",
   "execution_count": 17,
   "id": "3988f9a0",
   "metadata": {
    "execution": {
     "iopub.execute_input": "2022-01-26T19:15:46.319888Z",
     "iopub.status.busy": "2022-01-26T19:15:46.319361Z",
     "iopub.status.idle": "2022-01-26T19:15:46.327945Z",
     "shell.execute_reply": "2022-01-26T19:15:46.328480Z",
     "shell.execute_reply.started": "2022-01-26T18:11:08.611793Z"
    },
    "papermill": {
     "duration": 0.058031,
     "end_time": "2022-01-26T19:15:46.328695",
     "exception": false,
     "start_time": "2022-01-26T19:15:46.270664",
     "status": "completed"
    },
    "tags": []
   },
   "outputs": [
    {
     "data": {
      "text/plain": [
       "count    889.00\n",
       "mean      29.65\n",
       "std       12.97\n",
       "min        0.42\n",
       "25%       22.00\n",
       "50%       29.70\n",
       "75%       35.00\n",
       "max       80.00\n",
       "Name: Age, dtype: float64"
      ]
     },
     "execution_count": 17,
     "metadata": {},
     "output_type": "execute_result"
    }
   ],
   "source": [
    "train[\"Age\"].describe().round(2)"
   ]
  },
  {
   "cell_type": "code",
   "execution_count": 18,
   "id": "ff4ebb2f",
   "metadata": {
    "execution": {
     "iopub.execute_input": "2022-01-26T19:15:46.472303Z",
     "iopub.status.busy": "2022-01-26T19:15:46.471482Z",
     "iopub.status.idle": "2022-01-26T19:15:46.631130Z",
     "shell.execute_reply": "2022-01-26T19:15:46.632073Z",
     "shell.execute_reply.started": "2022-01-26T18:12:14.690986Z"
    },
    "papermill": {
     "duration": 0.231639,
     "end_time": "2022-01-26T19:15:46.632275",
     "exception": false,
     "start_time": "2022-01-26T19:15:46.400636",
     "status": "completed"
    },
    "tags": []
   },
   "outputs": [
    {
     "name": "stdout",
     "output_type": "stream",
     "text": [
      "S    0.724409\n",
      "C    0.188976\n",
      "Q    0.086614\n",
      "Name: Embarked, dtype: float64\n"
     ]
    },
    {
     "name": "stderr",
     "output_type": "stream",
     "text": [
      "/opt/conda/lib/python3.7/site-packages/seaborn/_decorators.py:43: FutureWarning: Pass the following variable as a keyword arg: x. From version 0.12, the only valid positional argument will be `data`, and passing other arguments without an explicit keyword will result in an error or misinterpretation.\n",
      "  FutureWarning\n"
     ]
    },
    {
     "data": {
      "text/plain": [
       "<AxesSubplot:xlabel='Embarked', ylabel='count'>"
      ]
     },
     "execution_count": 18,
     "metadata": {},
     "output_type": "execute_result"
    },
    {
     "data": {
      "image/png": "[encoded data removed]",
      "text/plain": [
       "<Figure size 432x288 with 1 Axes>"
      ]
     },
     "metadata": {
      "needs_background": "light"
     },
     "output_type": "display_data"
    }
   ],
   "source": [
    "# How much the percentage - Embarked at the dataset\n",
    "print(train[\"Embarked\"].value_counts(normalize=True))\n",
    "sns.countplot(train[\"Embarked\"])"
   ]
  },
  {
   "cell_type": "code",
   "execution_count": 19,
   "id": "151e8d06",
   "metadata": {
    "execution": {
     "iopub.execute_input": "2022-01-26T19:15:46.763788Z",
     "iopub.status.busy": "2022-01-26T19:15:46.762914Z",
     "iopub.status.idle": "2022-01-26T19:15:46.865929Z",
     "shell.execute_reply": "2022-01-26T19:15:46.866491Z",
     "shell.execute_reply.started": "2022-01-26T18:13:20.521142Z"
    },
    "papermill": {
     "duration": 0.170011,
     "end_time": "2022-01-26T19:15:46.866689",
     "exception": false,
     "start_time": "2022-01-26T19:15:46.696678",
     "status": "completed"
    },
    "tags": []
   },
   "outputs": [
    {
     "data": {
      "image/png": "[encoded data removed]",
      "text/plain": [
       "<Figure size 432x288 with 1 Axes>"
      ]
     },
     "metadata": {
      "needs_background": "light"
     },
     "output_type": "display_data"
    }
   ],
   "source": [
    "# Fare\n",
    "plt.boxplot(train[\"Fare\"])\n",
    "plt.show()"
   ]
  },
  {
   "cell_type": "code",
   "execution_count": 20,
   "id": "4c4a978a",
   "metadata": {
    "execution": {
     "iopub.execute_input": "2022-01-26T19:15:46.999897Z",
     "iopub.status.busy": "2022-01-26T19:15:46.999016Z",
     "iopub.status.idle": "2022-01-26T19:15:47.008560Z",
     "shell.execute_reply": "2022-01-26T19:15:47.009043Z",
     "shell.execute_reply.started": "2022-01-26T18:13:39.908424Z"
    },
    "papermill": {
     "duration": 0.077283,
     "end_time": "2022-01-26T19:15:47.009213",
     "exception": false,
     "start_time": "2022-01-26T19:15:46.931930",
     "status": "completed"
    },
    "tags": []
   },
   "outputs": [
    {
     "data": {
      "text/plain": [
       "count    889.00\n",
       "mean      32.10\n",
       "std       49.70\n",
       "min        0.00\n",
       "25%        7.90\n",
       "50%       14.45\n",
       "75%       31.00\n",
       "max      512.33\n",
       "Name: Fare, dtype: float64"
      ]
     },
     "execution_count": 20,
     "metadata": {},
     "output_type": "execute_result"
    }
   ],
   "source": [
    "train[\"Fare\"].describe().round(2)"
   ]
  },
  {
   "cell_type": "code",
   "execution_count": 21,
   "id": "b5e8928e",
   "metadata": {
    "execution": {
     "iopub.execute_input": "2022-01-26T19:15:47.142024Z",
     "iopub.status.busy": "2022-01-26T19:15:47.141178Z",
     "iopub.status.idle": "2022-01-26T19:15:47.156078Z",
     "shell.execute_reply": "2022-01-26T19:15:47.156695Z",
     "shell.execute_reply.started": "2022-01-26T18:18:04.192032Z"
    },
    "papermill": {
     "duration": 0.082981,
     "end_time": "2022-01-26T19:15:47.156869",
     "exception": false,
     "start_time": "2022-01-26T19:15:47.073888",
     "status": "completed"
    },
    "tags": []
   },
   "outputs": [
    {
     "data": {
      "text/html": [
       "<div>\n",
       "<style scoped>\n",
       "    .dataframe tbody tr th:only-of-type {\n",
       "        vertical-align: middle;\n",
       "    }\n",
       "\n",
       "    .dataframe tbody tr th {\n",
       "        vertical-align: top;\n",
       "    }\n",
       "\n",
       "    .dataframe thead th {\n",
       "        text-align: right;\n",
       "    }\n",
       "</style>\n",
       "<table border=\"1\" class=\"dataframe\">\n",
       "  <thead>\n",
       "    <tr style=\"text-align: right;\">\n",
       "      <th></th>\n",
       "      <th>PassengerId</th>\n",
       "      <th>Survived</th>\n",
       "      <th>Pclass</th>\n",
       "      <th>Name</th>\n",
       "      <th>Sex</th>\n",
       "      <th>Age</th>\n",
       "      <th>SibSp</th>\n",
       "      <th>Parch</th>\n",
       "      <th>Ticket</th>\n",
       "      <th>Fare</th>\n",
       "      <th>Embarked</th>\n",
       "    </tr>\n",
       "  </thead>\n",
       "  <tbody>\n",
       "    <tr>\n",
       "      <th>0</th>\n",
       "      <td>1</td>\n",
       "      <td>0</td>\n",
       "      <td>3</td>\n",
       "      <td>Braund, Mr. Owen Harris</td>\n",
       "      <td>male</td>\n",
       "      <td>22.0</td>\n",
       "      <td>1</td>\n",
       "      <td>0</td>\n",
       "      <td>A/5 21171</td>\n",
       "      <td>7.2500</td>\n",
       "      <td>S</td>\n",
       "    </tr>\n",
       "    <tr>\n",
       "      <th>1</th>\n",
       "      <td>2</td>\n",
       "      <td>1</td>\n",
       "      <td>1</td>\n",
       "      <td>Cumings, Mrs. John Bradley (Florence Briggs Th...</td>\n",
       "      <td>female</td>\n",
       "      <td>38.0</td>\n",
       "      <td>1</td>\n",
       "      <td>0</td>\n",
       "      <td>PC 17599</td>\n",
       "      <td>71.2833</td>\n",
       "      <td>C</td>\n",
       "    </tr>\n",
       "    <tr>\n",
       "      <th>2</th>\n",
       "      <td>3</td>\n",
       "      <td>1</td>\n",
       "      <td>3</td>\n",
       "      <td>Heikkinen, Miss. Laina</td>\n",
       "      <td>female</td>\n",
       "      <td>26.0</td>\n",
       "      <td>0</td>\n",
       "      <td>0</td>\n",
       "      <td>STON/O2. 3101282</td>\n",
       "      <td>7.9250</td>\n",
       "      <td>S</td>\n",
       "    </tr>\n",
       "    <tr>\n",
       "      <th>3</th>\n",
       "      <td>4</td>\n",
       "      <td>1</td>\n",
       "      <td>1</td>\n",
       "      <td>Futrelle, Mrs. Jacques Heath (Lily May Peel)</td>\n",
       "      <td>female</td>\n",
       "      <td>35.0</td>\n",
       "      <td>1</td>\n",
       "      <td>0</td>\n",
       "      <td>113803</td>\n",
       "      <td>53.1000</td>\n",
       "      <td>S</td>\n",
       "    </tr>\n",
       "    <tr>\n",
       "      <th>4</th>\n",
       "      <td>5</td>\n",
       "      <td>0</td>\n",
       "      <td>3</td>\n",
       "      <td>Allen, Mr. William Henry</td>\n",
       "      <td>male</td>\n",
       "      <td>35.0</td>\n",
       "      <td>0</td>\n",
       "      <td>0</td>\n",
       "      <td>373450</td>\n",
       "      <td>8.0500</td>\n",
       "      <td>S</td>\n",
       "    </tr>\n",
       "  </tbody>\n",
       "</table>\n",
       "</div>"
      ],
      "text/plain": [
       "   PassengerId  Survived  Pclass  \\\n",
       "0            1         0       3   \n",
       "1            2         1       1   \n",
       "2            3         1       3   \n",
       "3            4         1       1   \n",
       "4            5         0       3   \n",
       "\n",
       "                                                Name     Sex   Age  SibSp  \\\n",
       "0                            Braund, Mr. Owen Harris    male  22.0      1   \n",
       "1  Cumings, Mrs. John Bradley (Florence Briggs Th...  female  38.0      1   \n",
       "2                             Heikkinen, Miss. Laina  female  26.0      0   \n",
       "3       Futrelle, Mrs. Jacques Heath (Lily May Peel)  female  35.0      1   \n",
       "4                           Allen, Mr. William Henry    male  35.0      0   \n",
       "\n",
       "   Parch            Ticket     Fare Embarked  \n",
       "0      0         A/5 21171   7.2500        S  \n",
       "1      0          PC 17599  71.2833        C  \n",
       "2      0  STON/O2. 3101282   7.9250        S  \n",
       "3      0            113803  53.1000        S  \n",
       "4      0            373450   8.0500        S  "
      ]
     },
     "execution_count": 21,
     "metadata": {},
     "output_type": "execute_result"
    }
   ],
   "source": [
    "train.head()"
   ]
  },
  {
   "cell_type": "code",
   "execution_count": 22,
   "id": "a6fe5b4c",
   "metadata": {
    "execution": {
     "iopub.execute_input": "2022-01-26T19:15:47.292145Z",
     "iopub.status.busy": "2022-01-26T19:15:47.291286Z",
     "iopub.status.idle": "2022-01-26T19:15:48.906051Z",
     "shell.execute_reply": "2022-01-26T19:15:48.906657Z",
     "shell.execute_reply.started": "2022-01-26T18:21:13.092275Z"
    },
    "papermill": {
     "duration": 1.685641,
     "end_time": "2022-01-26T19:15:48.906855",
     "exception": false,
     "start_time": "2022-01-26T19:15:47.221214",
     "status": "completed"
    },
    "tags": []
   },
   "outputs": [
    {
     "data": {
      "text/html": [
       "        <script type=\"text/javascript\">\n",
       "        window.PlotlyConfig = {MathJaxConfig: 'local'};\n",
       "        if (window.MathJax) {MathJax.Hub.Config({SVG: {font: \"STIX-Web\"}});}\n",
       "        if (typeof require !== 'undefined') {\n",
       "        require.undef(\"plotly\");\n",
       "        requirejs.config({\n",
       "            paths: {\n",
       "                'plotly': ['https://cdn.plot.ly/plotly-2.8.3.min']\n",
       "            }\n",
       "        });\n",
       "        require(['plotly'], function(Plotly) {\n",
       "            window._Plotly = Plotly;\n",
       "        });\n",
       "        }\n",
       "        </script>\n",
       "        "
      ]
     },
     "metadata": {},
     "output_type": "display_data"
    },
    {
     "data": {
      "text/html": [
       "<div>                            <div id=\"2b30fd76-f8af-431d-8113-2a0faddc2d1b\" class=\"plotly-graph-div\" style=\"height:525px; width:100%;\"></div>            <script type=\"text/javascript\">                require([\"plotly\"], function(Plotly) {                    window.PLOTLYENV=window.PLOTLYENV || {};                                    if (document.getElementById(\"2b30fd76-f8af-431d-8113-2a0faddc2d1b\")) {                    Plotly.newPlot(                        \"2b30fd76-f8af-431d-8113-2a0faddc2d1b\",                        [{\"hovertemplate\":\"Embarked=S<br>Age=%{x}<br>Fare=%{y}<br>Survived=%{marker.color}<extra></extra>\",\"legendgroup\":\"\",\"marker\":{\"color\":[0,1,1,0,0,0,1,1,1,0,0,0,1,1,0,0,1,1,0,1,0,0,0,0,0,0,0,0,0,0,0,0,1,1,1,1,0,0,0,1,0,1,0,0,0,0,1,0,0,0,1,1,0,1,0,1,1,0,0,1,0,0,0,0,0,0,0,1,0,0,0,0,0,0,0,1,1,0,0,0,0,0,0,0,0,0,1,0,1,0,0,0,1,0,1,0,0,1,1,0,0,1,0,0,0,0,1,0,0,0,0,0,0,0,1,0,0,0,1,1,0,0,0,0,1,0,0,0,0,0,0,0,1,1,0,1,0,1,0,1,1,0,0,0,0,0,1,0,0,0,1,0,0,1,0,0,1,0,0,0,1,0,1,0,0,0,1,0,0,1,0,0,0,1,0,0,0,0,0,1,1,0,0,0,0,0,0,1,1,1,0,0,0,0,1,1,1,0,1,1,1,0,0,1,0,0,1,0,1,0,1,1,0,0,0,1,0,0,1,0,0,0,1,1,0,1,0,0,1,0,0,1,1,0,0,0,1,0,0,1,0,1,1,0,0,0,1,1,1,1,0,0,0,0,0,1,0,0,0,0,0,0,0,1,0,0,1,0,0,0,1,1,1,0,1,0,0,0,0,1,1,0,0,0,0,0,0,1,0,0,0,0,1,0,1,1,0,0,0,0,0,0,1,1,1,1,1,1,0,0,1,0,1,0,0,1,0,0,1,1,1,1,1,1,0,0,0,0,1,1,1,0,0,0,0,0,0,0,0,0,1,0,0,0,0,0,1,0,0,0,1,0,1,0,1,0,0,0,0,0,0,0,0,0,1,1,1,0,1,0,1,0,0,1,1,0,1,0,1,0,0,0,1,0,1,0,0,1,0,0,1,0,1,0,1,0,1,0,1,1,0,0,0,0,0,0,0,1,1,1,1,0,0,1,1,1,1,0,1,0,0,0,0,0,0,0,1,0,1,0,0,0,0,0,1,1,0,0,0,1,0,0,1,0,1,0,0,0,1,0,1,0,0,0,1,0,0,0,0,0,0,1,0,0,1,0,1,0,0,0,0,1,0,0,1,0,0,0,0,1,1,0,0,1,0,0,0,1,0,0,0,0,0,0,0,1,1,1,0,0,0,0,1,0,0,1,1,1,0,1,0,0,0,1,0,1,0,0,0,1,0,1,0,0,1,0,0,0,0,0,0,0,1,0,0,1,0,0,1,0,1,1,0,0,1,1,0,0,0,1,0,0,1,0,1,0,0,0,0,1,0,1,1,1,0,0,0,0,1,1,0,0,0,0,1,1,0,0,1,1,1,0,0,0,0,1,0,0,0,0,0,0,0,0,0,1,1,0,1,0,0,1,0,0,0,0,1,0,0,0,0,0,0,0,0,1,0,1,1,1,0,0,1,0,0,1,0,0,1,0,1,0,0,0,0,0,1,0,0,0,0,0,1,0],\"coloraxis\":\"coloraxis\",\"symbol\":\"circle\"},\"mode\":\"markers\",\"name\":\"\",\"orientation\":\"v\",\"showlegend\":false,\"x\":[22.0,26.0,35.0,35.0,54.0,2.0,27.0,4.0,58.0,20.0,39.0,14.0,55.0,29.7,31.0,35.0,34.0,28.0,8.0,38.0,19.0,29.7,66.0,42.0,21.0,18.0,40.0,27.0,29.7,18.0,7.0,21.0,29.0,29.7,21.0,5.0,11.0,45.0,4.0,29.0,19.0,17.0,26.0,32.0,16.0,21.0,32.0,25.0,29.7,29.7,0.83,30.0,22.0,29.0,28.0,17.0,33.0,16.0,29.7,23.0,24.0,29.0,20.0,46.0,26.0,59.0,29.7,34.0,34.0,28.0,29.7,21.0,33.0,37.0,28.0,21.0,29.7,38.0,47.0,22.0,20.0,21.0,29.0,2.0,21.0,29.7,32.5,54.0,24.0,45.0,20.0,47.0,29.0,25.0,19.0,37.0,16.0,22.0,24.0,18.0,19.0,27.0,9.0,36.5,42.0,51.0,22.0,55.5,40.5,29.7,30.0,29.7,29.7,44.0,40.0,26.0,17.0,1.0,9.0,29.7,45.0,29.7,28.0,61.0,1.0,21.0,18.0,29.7,30.0,36.0,29.7,9.0,1.0,4.0,29.7,45.0,36.0,32.0,19.0,19.0,3.0,42.0,24.0,28.0,29.7,34.0,18.0,2.0,32.0,24.0,35.0,22.0,30.0,27.0,42.0,30.0,16.0,27.0,51.0,29.7,38.0,22.0,19.0,20.5,18.0,29.7,35.0,29.0,59.0,5.0,24.0,29.7,44.0,8.0,19.0,33.0,29.0,22.0,25.0,24.0,37.0,54.0,29.7,29.0,62.0,30.0,41.0,30.0,50.0,3.0,52.0,40.0,36.0,16.0,25.0,58.0,35.0,29.7,25.0,41.0,63.0,45.0,29.7,35.0,28.0,16.0,19.0,29.7,30.0,22.0,42.0,26.0,24.0,24.0,2.0,29.7,19.0,29.7,0.92,26.0,28.0,43.0,26.0,24.0,54.0,31.0,22.0,27.0,22.0,29.7,61.0,36.0,31.0,45.5,38.0,16.0,29.7,29.7,29.0,45.0,45.0,2.0,24.0,28.0,25.0,36.0,24.0,40.0,29.7,3.0,42.0,23.0,29.7,25.0,28.0,22.0,38.0,40.0,35.0,30.0,18.0,19.0,3.0,22.0,19.0,32.0,35.0,29.7,18.0,1.0,36.0,36.0,21.0,28.0,24.0,22.0,31.0,46.0,23.0,28.0,39.0,26.0,21.0,28.0,20.0,34.0,51.0,3.0,21.0,29.7,29.7,29.7,44.0,29.7,34.0,18.0,30.0,10.0,29.0,28.0,18.0,29.7,28.0,19.0,32.0,28.0,29.7,42.0,17.0,50.0,14.0,21.0,24.0,64.0,31.0,45.0,20.0,25.0,28.0,29.7,4.0,13.0,34.0,52.0,36.0,29.7,29.7,65.0,29.7,50.0,48.0,34.0,47.0,48.0,29.7,38.0,29.7,56.0,29.7,38.0,33.0,22.0,29.7,34.0,29.0,22.0,2.0,9.0,29.7,50.0,63.0,29.7,35.0,30.0,9.0,29.7,21.0,55.0,21.0,29.7,25.0,24.0,17.0,37.0,16.0,33.0,29.7,28.0,26.0,29.7,36.0,24.0,47.0,34.0,36.0,32.0,30.0,22.0,50.0,29.7,39.0,23.0,2.0,30.0,7.0,45.0,29.7,36.0,9.0,11.0,32.0,64.0,19.0,33.0,8.0,27.0,22.0,62.0,39.0,36.0,40.0,28.0,29.7,29.7,24.0,19.0,29.0,32.0,62.0,53.0,36.0,16.0,19.0,34.0,39.0,32.0,25.0,54.0,18.0,47.0,22.0,29.7,35.0,47.0,37.0,36.0,29.7,49.0,24.0,29.7,29.7,44.0,36.0,30.0,27.0,40.0,39.0,29.7,35.0,24.0,34.0,26.0,4.0,26.0,42.0,21.0,21.0,61.0,21.0,26.0,80.0,51.0,29.7,9.0,28.0,32.0,31.0,41.0,29.7,20.0,2.0,29.7,19.0,29.7,23.0,29.7,18.0,21.0,24.0,29.7,23.0,50.0,47.0,36.0,20.0,32.0,25.0,29.7,43.0,29.7,40.0,31.0,70.0,31.0,29.7,18.0,24.5,18.0,43.0,20.0,14.0,60.0,14.0,19.0,18.0,15.0,31.0,29.7,60.0,52.0,44.0,42.0,35.0,26.0,39.0,45.0,42.0,22.0,29.7,48.0,29.0,52.0,19.0,27.0,33.0,6.0,17.0,34.0,50.0,27.0,20.0,30.0,25.0,25.0,29.0,29.7,23.0,23.0,28.5,48.0,29.7,29.7,29.7,36.0,24.0,31.0,70.0,16.0,30.0,19.0,4.0,6.0,33.0,23.0,48.0,0.67,28.0,18.0,34.0,33.0,29.7,41.0,36.0,16.0,51.0,32.0,24.0,48.0,57.0,54.0,18.0,5.0,43.0,17.0,29.0,29.7,25.0,25.0,18.0,1.0,16.0,29.7,25.0,39.0,49.0,31.0,30.0,34.0,31.0,11.0,27.0,31.0,39.0,18.0,39.0,33.0,26.0,39.0,35.0,6.0,30.5,29.7,23.0,43.0,10.0,52.0,27.0,38.0,27.0,2.0,29.7,0.83,23.0,18.0,21.0,29.7,32.0,20.0,16.0,17.0,42.0,29.7,28.0,4.0,74.0,16.0,44.0,18.0,45.0,51.0,41.0,21.0,48.0,29.7,24.0,42.0,31.0,29.7,4.0,26.0,47.0,33.0,47.0,20.0,19.0,29.7,25.0,33.0,22.0,28.0,25.0,27.0,19.0,29.7],\"xaxis\":\"x\",\"y\":[7.25,7.925,53.1,8.05,51.8625,21.075,11.1333,16.7,26.55,8.05,31.275,7.8542,16.0,13.0,18.0,26.0,13.0,35.5,21.075,31.3875,263.0,7.8958,10.5,52.0,8.05,18.0,9.475,21.0,8.05,17.8,39.6875,7.8,26.0,35.5,10.5,27.75,46.9,83.475,27.9,10.5,8.1583,7.925,8.6625,10.5,46.9,73.5,56.4958,7.65,7.8958,8.05,29.0,12.475,9.0,9.5,47.1,10.5,15.85,34.375,8.05,263.0,8.05,8.05,7.8542,61.175,20.575,7.25,8.05,23.0,26.0,7.8958,7.8958,77.2875,8.6542,7.925,7.8958,7.65,7.775,7.8958,52.0,8.05,9.825,7.925,21.0,31.275,73.5,8.05,13.0,77.2875,7.1417,6.975,7.05,14.5,26.0,13.0,26.2833,53.1,9.2167,7.75,15.85,11.5,36.75,7.7958,34.375,26.0,13.0,12.525,66.6,8.05,14.5,7.3125,8.05,8.6625,69.55,16.1,15.75,7.775,8.6625,39.6875,20.525,55.0,27.9,25.925,56.4958,33.5,11.1333,7.925,7.8542,25.4667,13.0,0.0,69.55,31.3875,39.0,22.025,50.0,26.55,7.8958,13.0,13.0,7.8542,26.0,8.4042,13.0,9.5,69.55,6.4958,8.05,10.4625,15.85,7.05,21.0,7.25,13.0,7.925,27.0,10.5,8.05,13.0,8.05,7.8958,90.0,9.35,10.5,7.25,13.0,25.4667,83.475,7.775,13.5,31.3875,10.5,7.55,26.0,26.25,10.5,12.275,10.5,7.125,7.775,14.5,52.5542,26.0,7.25,10.4625,26.55,16.1,20.2125,86.5,26.0,31.3875,79.65,0.0,10.5,39.6875,7.775,153.4625,135.6333,31.0,0.0,19.5,77.9583,7.75,0.0,20.25,7.8542,9.5,8.05,26.0,9.5,7.8958,13.0,78.85,8.85,7.8958,151.55,30.5,0.0,8.05,151.55,26.0,7.8958,26.25,7.8542,26.0,14.0,164.8667,7.25,7.8958,29.0,69.55,6.2375,13.0,20.525,28.5,153.4625,18.0,133.65,7.8958,66.6,8.05,35.5,26.0,263.0,13.0,13.0,13.0,13.0,13.0,16.1,15.9,8.6625,9.225,35.0,17.8,9.5,55.0,13.0,27.9,7.05,7.25,6.4958,8.05,21.075,7.25,7.775,7.925,52.0,7.8958,73.5,46.9,13.0,120.0,7.7958,7.925,16.7,7.7958,7.8542,26.0,10.5,12.65,7.925,8.05,9.825,15.85,8.6625,21.0,7.75,18.75,7.775,25.4667,7.8958,0.0,7.925,8.05,32.5,13.0,13.0,24.15,7.875,14.4,20.2125,7.25,26.0,26.0,8.05,26.55,16.1,26.0,7.125,55.9,120.0,34.375,18.75,263.0,10.5,26.25,9.5,7.775,13.0,8.1125,81.8583,19.5,26.55,30.5,27.75,19.9667,8.05,26.55,51.8625,10.5,26.55,8.05,38.5,13.0,8.05,7.05,0.0,26.55,7.25,8.6625,27.75,9.8375,52.0,21.0,7.0458,7.5208,12.2875,46.9,0.0,8.05,9.5875,25.4667,90.0,8.05,15.9,19.9667,7.25,30.5,8.05,15.1,151.55,7.7958,8.6625,9.5875,86.5,26.0,26.55,22.525,56.4958,8.05,26.2875,7.4958,34.0208,10.5,26.0,7.8958,93.5,7.8958,10.5,221.7792,7.925,11.5,26.0,8.6625,26.25,26.55,14.5,71.0,31.275,31.275,26.0,26.0,26.0,20.525,36.75,26.0,7.775,26.55,79.65,17.4,7.8958,13.5,8.05,8.05,24.15,7.8958,21.075,7.8542,10.5,51.4792,26.3875,8.05,14.5,13.0,55.9,7.925,30.0,26.0,79.65,15.0,8.05,8.05,7.125,7.25,26.0,24.15,33.0,0.0,27.0,7.8958,42.4,8.05,15.55,7.8958,30.5,153.4625,31.275,7.05,8.05,65.0,14.4,16.1,39.0,10.5,52.5542,7.8542,16.1,32.3208,77.9583,7.8958,30.0,7.0542,0.0,27.9,13.0,7.925,26.25,39.6875,16.1,7.8542,27.9,56.4958,7.8958,7.55,7.55,7.8958,23.0,8.4333,73.5,7.8958,13.0,133.65,25.5875,7.4958,7.925,73.5,13.0,7.775,8.05,52.0,39.0,52.0,10.5,13.0,0.0,7.775,8.05,9.8417,46.9,9.225,46.9,39.0,39.6875,10.1708,7.7958,211.3375,57.0,56.4958,26.55,13.5,8.05,7.65,26.2875,7.8542,26.0,13.5,26.2875,151.55,26.55,52.0,9.4833,13.0,7.65,10.5,7.775,33.0,7.0542,13.0,13.0,53.1,8.6625,21.0,26.0,7.925,211.3375,0.0,13.0,13.0,16.1,34.375,7.8958,7.8958,30.0,78.85,16.1,7.925,71.0,20.25,13.0,53.1,23.0,12.475,9.5,7.8958,65.0,14.5,7.7958,11.5,8.05,86.5,14.5,7.125,120.0,7.775,77.9583,8.3625,9.5,7.8542,10.5,23.0,7.75,12.475,211.3375,57.0,30.0,23.45,7.05,7.25,7.4958,20.575,26.0,69.55,7.8958,13.0,25.9292,8.6833,24.15,13.0,26.25,120.0,6.975,7.775,0.0,7.775,13.0,53.1,7.8875,24.15,10.5,31.275,8.05,0.0,7.925,6.45,27.9,93.5,8.6625,0.0,12.475,39.6875,56.4958,18.75,7.8542,8.3,8.6625,8.05,56.4958,7.925,10.5,8.6625,7.55,69.55,33.0,31.275,7.775,39.4,26.0,9.35,164.8667,26.55,14.1083,11.5,25.9292,69.55,13.0,13.0,50.4958,9.5,11.1333,7.8958,52.5542,5.0,9.0,9.8458,7.8958,7.8958,26.0,7.8958,10.5167,10.5,7.05,13.0,30.0,23.45],\"yaxis\":\"y\",\"type\":\"scatter\"}],                        {\"template\":{\"data\":{\"bar\":[{\"error_x\":{\"color\":\"#2a3f5f\"},\"error_y\":{\"color\":\"#2a3f5f\"},\"marker\":{\"line\":{\"color\":\"#E5ECF6\",\"width\":0.5},\"pattern\":{\"fillmode\":\"overlay\",\"size\":10,\"solidity\":0.2}},\"type\":\"bar\"}],\"barpolar\":[{\"marker\":{\"line\":{\"color\":\"#E5ECF6\",\"width\":0.5},\"pattern\":{\"fillmode\":\"overlay\",\"size\":10,\"solidity\":0.2}},\"type\":\"barpolar\"}],\"carpet\":[{\"aaxis\":{\"endlinecolor\":\"#2a3f5f\",\"gridcolor\":\"white\",\"linecolor\":\"white\",\"minorgridcolor\":\"white\",\"startlinecolor\":\"#2a3f5f\"},\"baxis\":{\"endlinecolor\":\"#2a3f5f\",\"gridcolor\":\"white\",\"linecolor\":\"white\",\"minorgridcolor\":\"white\",\"startlinecolor\":\"#2a3f5f\"},\"type\":\"carpet\"}],\"choropleth\":[{\"colorbar\":{\"outlinewidth\":0,\"ticks\":\"\"},\"type\":\"choropleth\"}],\"contour\":[{\"colorbar\":{\"outlinewidth\":0,\"ticks\":\"\"},\"colorscale\":[[0.0,\"#0d0887\"],[0.1111111111111111,\"#46039f\"],[0.2222222222222222,\"#7201a8\"],[0.3333333333333333,\"#9c179e\"],[0.4444444444444444,\"#bd3786\"],[0.5555555555555556,\"#d8576b\"],[0.6666666666666666,\"#ed7953\"],[0.7777777777777778,\"#fb9f3a\"],[0.8888888888888888,\"#fdca26\"],[1.0,\"#f0f921\"]],\"type\":\"contour\"}],\"contourcarpet\":[{\"colorbar\":{\"outlinewidth\":0,\"ticks\":\"\"},\"type\":\"contourcarpet\"}],\"heatmap\":[{\"colorbar\":{\"outlinewidth\":0,\"ticks\":\"\"},\"colorscale\":[[0.0,\"#0d0887\"],[0.1111111111111111,\"#46039f\"],[0.2222222222222222,\"#7201a8\"],[0.3333333333333333,\"#9c179e\"],[0.4444444444444444,\"#bd3786\"],[0.5555555555555556,\"#d8576b\"],[0.6666666666666666,\"#ed7953\"],[0.7777777777777778,\"#fb9f3a\"],[0.8888888888888888,\"#fdca26\"],[1.0,\"#f0f921\"]],\"type\":\"heatmap\"}],\"heatmapgl\":[{\"colorbar\":{\"outlinewidth\":0,\"ticks\":\"\"},\"colorscale\":[[0.0,\"#0d0887\"],[0.1111111111111111,\"#46039f\"],[0.2222222222222222,\"#7201a8\"],[0.3333333333333333,\"#9c179e\"],[0.4444444444444444,\"#bd3786\"],[0.5555555555555556,\"#d8576b\"],[0.6666666666666666,\"#ed7953\"],[0.7777777777777778,\"#fb9f3a\"],[0.8888888888888888,\"#fdca26\"],[1.0,\"#f0f921\"]],\"type\":\"heatmapgl\"}],\"histogram\":[{\"marker\":{\"pattern\":{\"fillmode\":\"overlay\",\"size\":10,\"solidity\":0.2}},\"type\":\"histogram\"}],\"histogram2d\":[{\"colorbar\":{\"outlinewidth\":0,\"ticks\":\"\"},\"colorscale\":[[0.0,\"#0d0887\"],[0.1111111111111111,\"#46039f\"],[0.2222222222222222,\"#7201a8\"],[0.3333333333333333,\"#9c179e\"],[0.4444444444444444,\"#bd3786\"],[0.5555555555555556,\"#d8576b\"],[0.6666666666666666,\"#ed7953\"],[0.7777777777777778,\"#fb9f3a\"],[0.8888888888888888,\"#fdca26\"],[1.0,\"#f0f921\"]],\"type\":\"histogram2d\"}],\"histogram2dcontour\":[{\"colorbar\":{\"outlinewidth\":0,\"ticks\":\"\"},\"colorscale\":[[0.0,\"#0d0887\"],[0.1111111111111111,\"#46039f\"],[0.2222222222222222,\"#7201a8\"],[0.3333333333333333,\"#9c179e\"],[0.4444444444444444,\"#bd3786\"],[0.5555555555555556,\"#d8576b\"],[0.6666666666666666,\"#ed7953\"],[0.7777777777777778,\"#fb9f3a\"],[0.8888888888888888,\"#fdca26\"],[1.0,\"#f0f921\"]],\"type\":\"histogram2dcontour\"}],\"mesh3d\":[{\"colorbar\":{\"outlinewidth\":0,\"ticks\":\"\"},\"type\":\"mesh3d\"}],\"parcoords\":[{\"line\":{\"colorbar\":{\"outlinewidth\":0,\"ticks\":\"\"}},\"type\":\"parcoords\"}],\"pie\":[{\"automargin\":true,\"type\":\"pie\"}],\"scatter\":[{\"marker\":{\"colorbar\":{\"outlinewidth\":0,\"ticks\":\"\"}},\"type\":\"scatter\"}],\"scatter3d\":[{\"line\":{\"colorbar\":{\"outlinewidth\":0,\"ticks\":\"\"}},\"marker\":{\"colorbar\":{\"outlinewidth\":0,\"ticks\":\"\"}},\"type\":\"scatter3d\"}],\"scattercarpet\":[{\"marker\":{\"colorbar\":{\"outlinewidth\":0,\"ticks\":\"\"}},\"type\":\"scattercarpet\"}],\"scattergeo\":[{\"marker\":{\"colorbar\":{\"outlinewidth\":0,\"ticks\":\"\"}},\"type\":\"scattergeo\"}],\"scattergl\":[{\"marker\":{\"colorbar\":{\"outlinewidth\":0,\"ticks\":\"\"}},\"type\":\"scattergl\"}],\"scattermapbox\":[{\"marker\":{\"colorbar\":{\"outlinewidth\":0,\"ticks\":\"\"}},\"type\":\"scattermapbox\"}],\"scatterpolar\":[{\"marker\":{\"colorbar\":{\"outlinewidth\":0,\"ticks\":\"\"}},\"type\":\"scatterpolar\"}],\"scatterpolargl\":[{\"marker\":{\"colorbar\":{\"outlinewidth\":0,\"ticks\":\"\"}},\"type\":\"scatterpolargl\"}],\"scatterternary\":[{\"marker\":{\"colorbar\":{\"outlinewidth\":0,\"ticks\":\"\"}},\"type\":\"scatterternary\"}],\"surface\":[{\"colorbar\":{\"outlinewidth\":0,\"ticks\":\"\"},\"colorscale\":[[0.0,\"#0d0887\"],[0.1111111111111111,\"#46039f\"],[0.2222222222222222,\"#7201a8\"],[0.3333333333333333,\"#9c179e\"],[0.4444444444444444,\"#bd3786\"],[0.5555555555555556,\"#d8576b\"],[0.6666666666666666,\"#ed7953\"],[0.7777777777777778,\"#fb9f3a\"],[0.8888888888888888,\"#fdca26\"],[1.0,\"#f0f921\"]],\"type\":\"surface\"}],\"table\":[{\"cells\":{\"fill\":{\"color\":\"#EBF0F8\"},\"line\":{\"color\":\"white\"}},\"header\":{\"fill\":{\"color\":\"#C8D4E3\"},\"line\":{\"color\":\"white\"}},\"type\":\"table\"}]},\"layout\":{\"annotationdefaults\":{\"arrowcolor\":\"#2a3f5f\",\"arrowhead\":0,\"arrowwidth\":1},\"autotypenumbers\":\"strict\",\"coloraxis\":{\"colorbar\":{\"outlinewidth\":0,\"ticks\":\"\"}},\"colorscale\":{\"diverging\":[[0,\"#8e0152\"],[0.1,\"#c51b7d\"],[0.2,\"#de77ae\"],[0.3,\"#f1b6da\"],[0.4,\"#fde0ef\"],[0.5,\"#f7f7f7\"],[0.6,\"#e6f5d0\"],[0.7,\"#b8e186\"],[0.8,\"#7fbc41\"],[0.9,\"#4d9221\"],[1,\"#276419\"]],\"sequential\":[[0.0,\"#0d0887\"],[0.1111111111111111,\"#46039f\"],[0.2222222222222222,\"#7201a8\"],[0.3333333333333333,\"#9c179e\"],[0.4444444444444444,\"#bd3786\"],[0.5555555555555556,\"#d8576b\"],[0.6666666666666666,\"#ed7953\"],[0.7777777777777778,\"#fb9f3a\"],[0.8888888888888888,\"#fdca26\"],[1.0,\"#f0f921\"]],\"sequentialminus\":[[0.0,\"#0d0887\"],[0.1111111111111111,\"#46039f\"],[0.2222222222222222,\"#7201a8\"],[0.3333333333333333,\"#9c179e\"],[0.4444444444444444,\"#bd3786\"],[0.5555555555555556,\"#d8576b\"],[0.6666666666666666,\"#ed7953\"],[0.7777777777777778,\"#fb9f3a\"],[0.8888888888888888,\"#fdca26\"],[1.0,\"#f0f921\"]]},\"colorway\":[\"#636efa\",\"#EF553B\",\"#00cc96\",\"#ab63fa\",\"#FFA15A\",\"#19d3f3\",\"#FF6692\",\"#B6E880\",\"#FF97FF\",\"#FECB52\"],\"font\":{\"color\":\"#2a3f5f\"},\"geo\":{\"bgcolor\":\"white\",\"lakecolor\":\"white\",\"landcolor\":\"#E5ECF6\",\"showlakes\":true,\"showland\":true,\"subunitcolor\":\"white\"},\"hoverlabel\":{\"align\":\"left\"},\"hovermode\":\"closest\",\"mapbox\":{\"style\":\"light\"},\"paper_bgcolor\":\"white\",\"plot_bgcolor\":\"#E5ECF6\",\"polar\":{\"angularaxis\":{\"gridcolor\":\"white\",\"linecolor\":\"white\",\"ticks\":\"\"},\"bgcolor\":\"#E5ECF6\",\"radialaxis\":{\"gridcolor\":\"white\",\"linecolor\":\"white\",\"ticks\":\"\"}},\"scene\":{\"xaxis\":{\"backgroundcolor\":\"#E5ECF6\",\"gridcolor\":\"white\",\"gridwidth\":2,\"linecolor\":\"white\",\"showbackground\":true,\"ticks\":\"\",\"zerolinecolor\":\"white\"},\"yaxis\":{\"backgroundcolor\":\"#E5ECF6\",\"gridcolor\":\"white\",\"gridwidth\":2,\"linecolor\":\"white\",\"showbackground\":true,\"ticks\":\"\",\"zerolinecolor\":\"white\"},\"zaxis\":{\"backgroundcolor\":\"#E5ECF6\",\"gridcolor\":\"white\",\"gridwidth\":2,\"linecolor\":\"white\",\"showbackground\":true,\"ticks\":\"\",\"zerolinecolor\":\"white\"}},\"shapedefaults\":{\"line\":{\"color\":\"#2a3f5f\"}},\"ternary\":{\"aaxis\":{\"gridcolor\":\"white\",\"linecolor\":\"white\",\"ticks\":\"\"},\"baxis\":{\"gridcolor\":\"white\",\"linecolor\":\"white\",\"ticks\":\"\"},\"bgcolor\":\"#E5ECF6\",\"caxis\":{\"gridcolor\":\"white\",\"linecolor\":\"white\",\"ticks\":\"\"}},\"title\":{\"x\":0.05},\"xaxis\":{\"automargin\":true,\"gridcolor\":\"white\",\"linecolor\":\"white\",\"ticks\":\"\",\"title\":{\"standoff\":15},\"zerolinecolor\":\"white\",\"zerolinewidth\":2},\"yaxis\":{\"automargin\":true,\"gridcolor\":\"white\",\"linecolor\":\"white\",\"ticks\":\"\",\"title\":{\"standoff\":15},\"zerolinecolor\":\"white\",\"zerolinewidth\":2}}},\"xaxis\":{\"anchor\":\"y\",\"domain\":[0.0,1.0],\"title\":{\"text\":\"Age\"}},\"yaxis\":{\"anchor\":\"x\",\"domain\":[0.0,1.0],\"title\":{\"text\":\"Fare\"}},\"coloraxis\":{\"colorbar\":{\"title\":{\"text\":\"Survived\"}},\"colorscale\":[[0.0,\"#0d0887\"],[0.1111111111111111,\"#46039f\"],[0.2222222222222222,\"#7201a8\"],[0.3333333333333333,\"#9c179e\"],[0.4444444444444444,\"#bd3786\"],[0.5555555555555556,\"#d8576b\"],[0.6666666666666666,\"#ed7953\"],[0.7777777777777778,\"#fb9f3a\"],[0.8888888888888888,\"#fdca26\"],[1.0,\"#f0f921\"]]},\"legend\":{\"tracegroupgap\":0},\"margin\":{\"t\":60},\"updatemenus\":[{\"buttons\":[{\"args\":[null,{\"frame\":{\"duration\":500,\"redraw\":false},\"mode\":\"immediate\",\"fromcurrent\":true,\"transition\":{\"duration\":500,\"easing\":\"linear\"}}],\"label\":\"&#9654;\",\"method\":\"animate\"},{\"args\":[[null],{\"frame\":{\"duration\":0,\"redraw\":false},\"mode\":\"immediate\",\"fromcurrent\":true,\"transition\":{\"duration\":0,\"easing\":\"linear\"}}],\"label\":\"&#9724;\",\"method\":\"animate\"}],\"direction\":\"left\",\"pad\":{\"r\":10,\"t\":70},\"showactive\":false,\"type\":\"buttons\",\"x\":0.1,\"xanchor\":\"right\",\"y\":0,\"yanchor\":\"top\"}],\"sliders\":[{\"active\":0,\"currentvalue\":{\"prefix\":\"Embarked=\"},\"len\":0.9,\"pad\":{\"b\":10,\"t\":60},\"steps\":[{\"args\":[[\"S\"],{\"frame\":{\"duration\":0,\"redraw\":false},\"mode\":\"immediate\",\"fromcurrent\":true,\"transition\":{\"duration\":0,\"easing\":\"linear\"}}],\"label\":\"S\",\"method\":\"animate\"},{\"args\":[[\"C\"],{\"frame\":{\"duration\":0,\"redraw\":false},\"mode\":\"immediate\",\"fromcurrent\":true,\"transition\":{\"duration\":0,\"easing\":\"linear\"}}],\"label\":\"C\",\"method\":\"animate\"},{\"args\":[[\"Q\"],{\"frame\":{\"duration\":0,\"redraw\":false},\"mode\":\"immediate\",\"fromcurrent\":true,\"transition\":{\"duration\":0,\"easing\":\"linear\"}}],\"label\":\"Q\",\"method\":\"animate\"}],\"x\":0.1,\"xanchor\":\"left\",\"y\":0,\"yanchor\":\"top\"}]},                        {\"responsive\": true}                    ).then(function(){\n",
       "                            Plotly.addFrames('2b30fd76-f8af-431d-8113-2a0faddc2d1b', [{\"data\":[{\"hovertemplate\":\"Embarked=S<br>Age=%{x}<br>Fare=%{y}<br>Survived=%{marker.color}<extra></extra>\",\"legendgroup\":\"\",\"marker\":{\"color\":[0,1,1,0,0,0,1,1,1,0,0,0,1,1,0,0,1,1,0,1,0,0,0,0,0,0,0,0,0,0,0,0,1,1,1,1,0,0,0,1,0,1,0,0,0,0,1,0,0,0,1,1,0,1,0,1,1,0,0,1,0,0,0,0,0,0,0,1,0,0,0,0,0,0,0,1,1,0,0,0,0,0,0,0,0,0,1,0,1,0,0,0,1,0,1,0,0,1,1,0,0,1,0,0,0,0,1,0,0,0,0,0,0,0,1,0,0,0,1,1,0,0,0,0,1,0,0,0,0,0,0,0,1,1,0,1,0,1,0,1,1,0,0,0,0,0,1,0,0,0,1,0,0,1,0,0,1,0,0,0,1,0,1,0,0,0,1,0,0,1,0,0,0,1,0,0,0,0,0,1,1,0,0,0,0,0,0,1,1,1,0,0,0,0,1,1,1,0,1,1,1,0,0,1,0,0,1,0,1,0,1,1,0,0,0,1,0,0,1,0,0,0,1,1,0,1,0,0,1,0,0,1,1,0,0,0,1,0,0,1,0,1,1,0,0,0,1,1,1,1,0,0,0,0,0,1,0,0,0,0,0,0,0,1,0,0,1,0,0,0,1,1,1,0,1,0,0,0,0,1,1,0,0,0,0,0,0,1,0,0,0,0,1,0,1,1,0,0,0,0,0,0,1,1,1,1,1,1,0,0,1,0,1,0,0,1,0,0,1,1,1,1,1,1,0,0,0,0,1,1,1,0,0,0,0,0,0,0,0,0,1,0,0,0,0,0,1,0,0,0,1,0,1,0,1,0,0,0,0,0,0,0,0,0,1,1,1,0,1,0,1,0,0,1,1,0,1,0,1,0,0,0,1,0,1,0,0,1,0,0,1,0,1,0,1,0,1,0,1,1,0,0,0,0,0,0,0,1,1,1,1,0,0,1,1,1,1,0,1,0,0,0,0,0,0,0,1,0,1,0,0,0,0,0,1,1,0,0,0,1,0,0,1,0,1,0,0,0,1,0,1,0,0,0,1,0,0,0,0,0,0,1,0,0,1,0,1,0,0,0,0,1,0,0,1,0,0,0,0,1,1,0,0,1,0,0,0,1,0,0,0,0,0,0,0,1,1,1,0,0,0,0,1,0,0,1,1,1,0,1,0,0,0,1,0,1,0,0,0,1,0,1,0,0,1,0,0,0,0,0,0,0,1,0,0,1,0,0,1,0,1,1,0,0,1,1,0,0,0,1,0,0,1,0,1,0,0,0,0,1,0,1,1,1,0,0,0,0,1,1,0,0,0,0,1,1,0,0,1,1,1,0,0,0,0,1,0,0,0,0,0,0,0,0,0,1,1,0,1,0,0,1,0,0,0,0,1,0,0,0,0,0,0,0,0,1,0,1,1,1,0,0,1,0,0,1,0,0,1,0,1,0,0,0,0,0,1,0,0,0,0,0,1,0],\"coloraxis\":\"coloraxis\",\"symbol\":\"circle\"},\"mode\":\"markers\",\"name\":\"\",\"orientation\":\"v\",\"showlegend\":false,\"x\":[22.0,26.0,35.0,35.0,54.0,2.0,27.0,4.0,58.0,20.0,39.0,14.0,55.0,29.7,31.0,35.0,34.0,28.0,8.0,38.0,19.0,29.7,66.0,42.0,21.0,18.0,40.0,27.0,29.7,18.0,7.0,21.0,29.0,29.7,21.0,5.0,11.0,45.0,4.0,29.0,19.0,17.0,26.0,32.0,16.0,21.0,32.0,25.0,29.7,29.7,0.83,30.0,22.0,29.0,28.0,17.0,33.0,16.0,29.7,23.0,24.0,29.0,20.0,46.0,26.0,59.0,29.7,34.0,34.0,28.0,29.7,21.0,33.0,37.0,28.0,21.0,29.7,38.0,47.0,22.0,20.0,21.0,29.0,2.0,21.0,29.7,32.5,54.0,24.0,45.0,20.0,47.0,29.0,25.0,19.0,37.0,16.0,22.0,24.0,18.0,19.0,27.0,9.0,36.5,42.0,51.0,22.0,55.5,40.5,29.7,30.0,29.7,29.7,44.0,40.0,26.0,17.0,1.0,9.0,29.7,45.0,29.7,28.0,61.0,1.0,21.0,18.0,29.7,30.0,36.0,29.7,9.0,1.0,4.0,29.7,45.0,36.0,32.0,19.0,19.0,3.0,42.0,24.0,28.0,29.7,34.0,18.0,2.0,32.0,24.0,35.0,22.0,30.0,27.0,42.0,30.0,16.0,27.0,51.0,29.7,38.0,22.0,19.0,20.5,18.0,29.7,35.0,29.0,59.0,5.0,24.0,29.7,44.0,8.0,19.0,33.0,29.0,22.0,25.0,24.0,37.0,54.0,29.7,29.0,62.0,30.0,41.0,30.0,50.0,3.0,52.0,40.0,36.0,16.0,25.0,58.0,35.0,29.7,25.0,41.0,63.0,45.0,29.7,35.0,28.0,16.0,19.0,29.7,30.0,22.0,42.0,26.0,24.0,24.0,2.0,29.7,19.0,29.7,0.92,26.0,28.0,43.0,26.0,24.0,54.0,31.0,22.0,27.0,22.0,29.7,61.0,36.0,31.0,45.5,38.0,16.0,29.7,29.7,29.0,45.0,45.0,2.0,24.0,28.0,25.0,36.0,24.0,40.0,29.7,3.0,42.0,23.0,29.7,25.0,28.0,22.0,38.0,40.0,35.0,30.0,18.0,19.0,3.0,22.0,19.0,32.0,35.0,29.7,18.0,1.0,36.0,36.0,21.0,28.0,24.0,22.0,31.0,46.0,23.0,28.0,39.0,26.0,21.0,28.0,20.0,34.0,51.0,3.0,21.0,29.7,29.7,29.7,44.0,29.7,34.0,18.0,30.0,10.0,29.0,28.0,18.0,29.7,28.0,19.0,32.0,28.0,29.7,42.0,17.0,50.0,14.0,21.0,24.0,64.0,31.0,45.0,20.0,25.0,28.0,29.7,4.0,13.0,34.0,52.0,36.0,29.7,29.7,65.0,29.7,50.0,48.0,34.0,47.0,48.0,29.7,38.0,29.7,56.0,29.7,38.0,33.0,22.0,29.7,34.0,29.0,22.0,2.0,9.0,29.7,50.0,63.0,29.7,35.0,30.0,9.0,29.7,21.0,55.0,21.0,29.7,25.0,24.0,17.0,37.0,16.0,33.0,29.7,28.0,26.0,29.7,36.0,24.0,47.0,34.0,36.0,32.0,30.0,22.0,50.0,29.7,39.0,23.0,2.0,30.0,7.0,45.0,29.7,36.0,9.0,11.0,32.0,64.0,19.0,33.0,8.0,27.0,22.0,62.0,39.0,36.0,40.0,28.0,29.7,29.7,24.0,19.0,29.0,32.0,62.0,53.0,36.0,16.0,19.0,34.0,39.0,32.0,25.0,54.0,18.0,47.0,22.0,29.7,35.0,47.0,37.0,36.0,29.7,49.0,24.0,29.7,29.7,44.0,36.0,30.0,27.0,40.0,39.0,29.7,35.0,24.0,34.0,26.0,4.0,26.0,42.0,21.0,21.0,61.0,21.0,26.0,80.0,51.0,29.7,9.0,28.0,32.0,31.0,41.0,29.7,20.0,2.0,29.7,19.0,29.7,23.0,29.7,18.0,21.0,24.0,29.7,23.0,50.0,47.0,36.0,20.0,32.0,25.0,29.7,43.0,29.7,40.0,31.0,70.0,31.0,29.7,18.0,24.5,18.0,43.0,20.0,14.0,60.0,14.0,19.0,18.0,15.0,31.0,29.7,60.0,52.0,44.0,42.0,35.0,26.0,39.0,45.0,42.0,22.0,29.7,48.0,29.0,52.0,19.0,27.0,33.0,6.0,17.0,34.0,50.0,27.0,20.0,30.0,25.0,25.0,29.0,29.7,23.0,23.0,28.5,48.0,29.7,29.7,29.7,36.0,24.0,31.0,70.0,16.0,30.0,19.0,4.0,6.0,33.0,23.0,48.0,0.67,28.0,18.0,34.0,33.0,29.7,41.0,36.0,16.0,51.0,32.0,24.0,48.0,57.0,54.0,18.0,5.0,43.0,17.0,29.0,29.7,25.0,25.0,18.0,1.0,16.0,29.7,25.0,39.0,49.0,31.0,30.0,34.0,31.0,11.0,27.0,31.0,39.0,18.0,39.0,33.0,26.0,39.0,35.0,6.0,30.5,29.7,23.0,43.0,10.0,52.0,27.0,38.0,27.0,2.0,29.7,0.83,23.0,18.0,21.0,29.7,32.0,20.0,16.0,17.0,42.0,29.7,28.0,4.0,74.0,16.0,44.0,18.0,45.0,51.0,41.0,21.0,48.0,29.7,24.0,42.0,31.0,29.7,4.0,26.0,47.0,33.0,47.0,20.0,19.0,29.7,25.0,33.0,22.0,28.0,25.0,27.0,19.0,29.7],\"xaxis\":\"x\",\"y\":[7.25,7.925,53.1,8.05,51.8625,21.075,11.1333,16.7,26.55,8.05,31.275,7.8542,16.0,13.0,18.0,26.0,13.0,35.5,21.075,31.3875,263.0,7.8958,10.5,52.0,8.05,18.0,9.475,21.0,8.05,17.8,39.6875,7.8,26.0,35.5,10.5,27.75,46.9,83.475,27.9,10.5,8.1583,7.925,8.6625,10.5,46.9,73.5,56.4958,7.65,7.8958,8.05,29.0,12.475,9.0,9.5,47.1,10.5,15.85,34.375,8.05,263.0,8.05,8.05,7.8542,61.175,20.575,7.25,8.05,23.0,26.0,7.8958,7.8958,77.2875,8.6542,7.925,7.8958,7.65,7.775,7.8958,52.0,8.05,9.825,7.925,21.0,31.275,73.5,8.05,13.0,77.2875,7.1417,6.975,7.05,14.5,26.0,13.0,26.2833,53.1,9.2167,7.75,15.85,11.5,36.75,7.7958,34.375,26.0,13.0,12.525,66.6,8.05,14.5,7.3125,8.05,8.6625,69.55,16.1,15.75,7.775,8.6625,39.6875,20.525,55.0,27.9,25.925,56.4958,33.5,11.1333,7.925,7.8542,25.4667,13.0,0.0,69.55,31.3875,39.0,22.025,50.0,26.55,7.8958,13.0,13.0,7.8542,26.0,8.4042,13.0,9.5,69.55,6.4958,8.05,10.4625,15.85,7.05,21.0,7.25,13.0,7.925,27.0,10.5,8.05,13.0,8.05,7.8958,90.0,9.35,10.5,7.25,13.0,25.4667,83.475,7.775,13.5,31.3875,10.5,7.55,26.0,26.25,10.5,12.275,10.5,7.125,7.775,14.5,52.5542,26.0,7.25,10.4625,26.55,16.1,20.2125,86.5,26.0,31.3875,79.65,0.0,10.5,39.6875,7.775,153.4625,135.6333,31.0,0.0,19.5,77.9583,7.75,0.0,20.25,7.8542,9.5,8.05,26.0,9.5,7.8958,13.0,78.85,8.85,7.8958,151.55,30.5,0.0,8.05,151.55,26.0,7.8958,26.25,7.8542,26.0,14.0,164.8667,7.25,7.8958,29.0,69.55,6.2375,13.0,20.525,28.5,153.4625,18.0,133.65,7.8958,66.6,8.05,35.5,26.0,263.0,13.0,13.0,13.0,13.0,13.0,16.1,15.9,8.6625,9.225,35.0,17.8,9.5,55.0,13.0,27.9,7.05,7.25,6.4958,8.05,21.075,7.25,7.775,7.925,52.0,7.8958,73.5,46.9,13.0,120.0,7.7958,7.925,16.7,7.7958,7.8542,26.0,10.5,12.65,7.925,8.05,9.825,15.85,8.6625,21.0,7.75,18.75,7.775,25.4667,7.8958,0.0,7.925,8.05,32.5,13.0,13.0,24.15,7.875,14.4,20.2125,7.25,26.0,26.0,8.05,26.55,16.1,26.0,7.125,55.9,120.0,34.375,18.75,263.0,10.5,26.25,9.5,7.775,13.0,8.1125,81.8583,19.5,26.55,30.5,27.75,19.9667,8.05,26.55,51.8625,10.5,26.55,8.05,38.5,13.0,8.05,7.05,0.0,26.55,7.25,8.6625,27.75,9.8375,52.0,21.0,7.0458,7.5208,12.2875,46.9,0.0,8.05,9.5875,25.4667,90.0,8.05,15.9,19.9667,7.25,30.5,8.05,15.1,151.55,7.7958,8.6625,9.5875,86.5,26.0,26.55,22.525,56.4958,8.05,26.2875,7.4958,34.0208,10.5,26.0,7.8958,93.5,7.8958,10.5,221.7792,7.925,11.5,26.0,8.6625,26.25,26.55,14.5,71.0,31.275,31.275,26.0,26.0,26.0,20.525,36.75,26.0,7.775,26.55,79.65,17.4,7.8958,13.5,8.05,8.05,24.15,7.8958,21.075,7.8542,10.5,51.4792,26.3875,8.05,14.5,13.0,55.9,7.925,30.0,26.0,79.65,15.0,8.05,8.05,7.125,7.25,26.0,24.15,33.0,0.0,27.0,7.8958,42.4,8.05,15.55,7.8958,30.5,153.4625,31.275,7.05,8.05,65.0,14.4,16.1,39.0,10.5,52.5542,7.8542,16.1,32.3208,77.9583,7.8958,30.0,7.0542,0.0,27.9,13.0,7.925,26.25,39.6875,16.1,7.8542,27.9,56.4958,7.8958,7.55,7.55,7.8958,23.0,8.4333,73.5,7.8958,13.0,133.65,25.5875,7.4958,7.925,73.5,13.0,7.775,8.05,52.0,39.0,52.0,10.5,13.0,0.0,7.775,8.05,9.8417,46.9,9.225,46.9,39.0,39.6875,10.1708,7.7958,211.3375,57.0,56.4958,26.55,13.5,8.05,7.65,26.2875,7.8542,26.0,13.5,26.2875,151.55,26.55,52.0,9.4833,13.0,7.65,10.5,7.775,33.0,7.0542,13.0,13.0,53.1,8.6625,21.0,26.0,7.925,211.3375,0.0,13.0,13.0,16.1,34.375,7.8958,7.8958,30.0,78.85,16.1,7.925,71.0,20.25,13.0,53.1,23.0,12.475,9.5,7.8958,65.0,14.5,7.7958,11.5,8.05,86.5,14.5,7.125,120.0,7.775,77.9583,8.3625,9.5,7.8542,10.5,23.0,7.75,12.475,211.3375,57.0,30.0,23.45,7.05,7.25,7.4958,20.575,26.0,69.55,7.8958,13.0,25.9292,8.6833,24.15,13.0,26.25,120.0,6.975,7.775,0.0,7.775,13.0,53.1,7.8875,24.15,10.5,31.275,8.05,0.0,7.925,6.45,27.9,93.5,8.6625,0.0,12.475,39.6875,56.4958,18.75,7.8542,8.3,8.6625,8.05,56.4958,7.925,10.5,8.6625,7.55,69.55,33.0,31.275,7.775,39.4,26.0,9.35,164.8667,26.55,14.1083,11.5,25.9292,69.55,13.0,13.0,50.4958,9.5,11.1333,7.8958,52.5542,5.0,9.0,9.8458,7.8958,7.8958,26.0,7.8958,10.5167,10.5,7.05,13.0,30.0,23.45],\"yaxis\":\"y\",\"type\":\"scatter\"}],\"name\":\"S\"},{\"data\":[{\"hovertemplate\":\"Embarked=C<br>Age=%{x}<br>Fare=%{y}<br>Survived=%{marker.color}<extra></extra>\",\"legendgroup\":\"\",\"marker\":{\"color\":[1,1,1,0,0,1,0,1,1,0,1,0,1,0,0,0,0,1,0,0,1,0,0,0,0,1,1,0,0,0,0,0,0,0,0,1,1,0,1,1,1,1,0,0,1,1,1,0,0,1,0,0,0,1,1,1,0,1,1,1,1,1,1,1,0,0,0,0,1,1,1,1,0,1,0,0,1,1,1,1,0,1,0,1,1,1,1,1,0,0,0,1,0,1,0,1,0,0,0,1,1,1,0,1,1,1,1,0,0,0,1,0,0,1,1,0,1,1,1,0,1,1,1,1,1,1,0,0,1,1,0,1,0,0,1,0,1,1,1,0,1,1,1,0,0,1,0,0,0,1,0,1,1,0,1,1,1,0,0,1,0,1,0,1,1,1,1,1],\"coloraxis\":\"coloraxis\",\"symbol\":\"circle\"},\"mode\":\"markers\",\"name\":\"\",\"orientation\":\"v\",\"showlegend\":false,\"x\":[38.0,14.0,29.7,29.7,40.0,29.7,28.0,29.7,14.0,29.7,3.0,29.7,49.0,65.0,28.5,22.0,29.7,29.7,26.0,71.0,23.0,14.5,17.0,24.0,32.5,12.0,29.7,33.0,23.0,24.0,29.7,51.0,56.0,50.0,29.7,44.0,58.0,45.5,26.0,40.0,31.0,32.0,29.7,30.0,29.0,29.7,35.0,37.0,33.0,19.0,36.0,29.7,23.5,50.0,29.7,17.0,30.0,30.0,24.0,18.0,40.0,36.0,16.0,41.0,15.0,29.7,29.0,45.0,60.0,29.7,24.0,25.0,22.0,29.7,27.0,20.0,42.0,1.0,17.0,23.0,29.7,5.0,30.0,49.0,29.0,0.75,23.0,25.0,58.0,71.0,29.7,54.0,18.0,54.0,29.7,44.0,29.7,29.7,17.0,29.7,30.0,22.0,50.0,29.7,17.0,22.0,48.0,29.7,29.7,29.7,39.0,36.0,29.7,60.0,52.0,29.7,49.0,35.0,22.0,27.0,20.0,32.0,24.0,0.75,48.0,56.0,58.0,40.0,36.0,27.0,25.0,4.0,25.0,49.0,18.0,18.0,29.7,24.0,38.0,11.0,35.0,21.0,20.0,29.7,29.7,13.0,46.0,29.7,30.0,0.42,31.0,1.0,15.0,29.7,39.0,29.7,30.0,34.5,35.0,29.7,9.0,24.0,29.7,27.0,28.0,15.0,56.0,26.0],\"xaxis\":\"x\",\"y\":[71.2833,30.0708,7.225,7.225,27.7208,146.5208,82.1708,7.2292,11.2417,7.8958,41.5792,21.6792,76.7292,61.9792,7.2292,7.2292,27.7208,15.2458,14.4542,34.6542,63.3583,14.4542,14.4583,247.5208,30.0708,11.2417,22.3583,7.8958,15.0458,79.2,15.2458,61.3792,30.6958,28.7125,15.05,27.7208,146.5208,7.225,18.7875,31.0,113.275,76.2917,14.4542,7.225,15.2458,79.2,512.3292,29.7,8.6625,91.0792,12.875,27.7208,7.2292,247.5208,110.8833,108.9,24.0,56.9292,83.1583,262.375,134.5,135.6333,57.9792,134.5,7.2292,7.225,27.7208,14.4542,75.25,7.2292,69.3,55.4417,135.6333,82.1708,211.5,4.0125,227.525,15.7417,12.0,113.275,7.8958,19.2583,27.75,89.1042,7.8958,19.2583,13.7917,91.0792,29.7,49.5042,14.4583,78.2667,108.9,59.4,7.225,57.9792,7.2292,7.2292,7.2292,22.3583,106.425,49.5,106.425,13.8625,110.8833,7.225,39.6,227.525,7.2292,14.4583,110.8833,40.125,8.7125,79.2,78.2667,7.225,56.9292,26.55,41.5792,14.4542,15.7417,30.5,69.3,19.2583,76.7292,35.5,113.275,7.225,512.3292,76.7292,41.5792,13.4167,7.225,110.8833,227.525,14.4542,15.2458,49.5042,227.525,18.7875,512.3292,262.375,7.2292,39.6,7.225,7.2292,79.2,30.6958,7.2292,8.5167,37.0042,37.0042,14.4542,7.2292,83.1583,29.7,31.0,6.4375,7.8958,89.1042,15.2458,19.2583,7.2292,13.8583,24.0,7.225,83.1583,30.0],\"yaxis\":\"y\",\"type\":\"scatter\"}],\"name\":\"C\"},{\"data\":[{\"hovertemplate\":\"Embarked=Q<br>Age=%{x}<br>Fare=%{y}<br>Survived=%{marker.color}<extra></extra>\",\"legendgroup\":\"\",\"marker\":{\"color\":[0,0,1,1,1,1,0,1,1,1,0,0,0,1,0,1,0,0,1,1,0,1,0,0,0,1,0,0,1,1,1,1,1,1,1,1,0,1,0,0,1,0,0,0,0,0,0,1,0,0,0,0,1,0,1,0,0,0,1,0,0,0,1,0,0,1,0,0,0,0,0,0,0,0,1,0,0],\"coloraxis\":\"coloraxis\",\"symbol\":\"circle\"},\"mode\":\"markers\",\"name\":\"\",\"orientation\":\"v\",\"showlegend\":false,\"x\":[29.7,2.0,15.0,29.7,29.7,19.0,29.7,29.7,29.7,29.7,70.5,29.7,19.0,16.0,4.0,29.7,40.0,29.7,29.7,16.0,29.7,29.7,44.0,29.7,29.7,29.7,7.0,65.0,22.0,29.7,29.7,29.7,30.0,29.7,29.7,29.7,29.7,29.7,29.7,29.7,33.0,21.0,29.7,29.7,29.7,21.0,29.7,29.0,29.7,40.5,29.7,29.7,29.7,29.7,29.7,29.7,57.0,29.7,29.7,18.0,32.0,29.7,29.7,25.0,29.7,29.7,31.0,30.5,29.7,29.7,29.7,8.0,29.7,29.7,29.7,39.0,32.0],\"xaxis\":\"x\",\"y\":[8.4583,29.125,8.0292,7.8792,7.75,7.8792,15.5,7.75,7.7875,24.15,7.75,7.75,6.75,7.7333,29.125,15.5,15.5,7.75,7.75,7.75,7.75,15.5,90.0,7.75,7.75,7.75,29.125,7.75,7.75,7.75,23.25,12.35,12.35,23.25,7.8792,7.8792,15.5,7.75,7.7292,6.8583,90.0,7.7333,7.75,7.75,7.725,7.75,7.6292,7.75,24.15,7.75,7.8292,7.75,7.75,7.75,15.5,7.75,12.35,7.7333,7.8292,6.75,15.5,8.1375,7.7333,7.7417,15.5,7.7375,7.75,7.75,24.15,7.75,7.7375,29.125,7.75,6.95,7.75,29.125,7.75],\"yaxis\":\"y\",\"type\":\"scatter\"}],\"name\":\"Q\"}]);\n",
       "                        }).then(function(){\n",
       "                            \n",
       "var gd = document.getElementById('2b30fd76-f8af-431d-8113-2a0faddc2d1b');\n",
       "var x = new MutationObserver(function (mutations, observer) {{\n",
       "        var display = window.getComputedStyle(gd).display;\n",
       "        if (!display || display === 'none') {{\n",
       "            console.log([gd, 'removed!']);\n",
       "            Plotly.purge(gd);\n",
       "            observer.disconnect();\n",
       "        }}\n",
       "}});\n",
       "\n",
       "// Listen for the removal of the full notebook cells\n",
       "var notebookContainer = gd.closest('#notebook-container');\n",
       "if (notebookContainer) {{\n",
       "    x.observe(notebookContainer, {childList: true});\n",
       "}}\n",
       "\n",
       "// Listen for the clearing of the current output cell\n",
       "var outputEl = gd.closest('.output');\n",
       "if (outputEl) {{\n",
       "    x.observe(outputEl, {childList: true});\n",
       "}}\n",
       "\n",
       "                        })                };                });            </script>        </div>"
      ]
     },
     "metadata": {},
     "output_type": "display_data"
    }
   ],
   "source": [
    "px.scatter(train,x=\"Age\",y=\"Fare\",color=\"Survived\",animation_frame=\"Embarked\")"
   ]
  },
  {
   "cell_type": "code",
   "execution_count": 23,
   "id": "74895f71",
   "metadata": {
    "execution": {
     "iopub.execute_input": "2022-01-26T19:15:49.047830Z",
     "iopub.status.busy": "2022-01-26T19:15:49.045502Z",
     "iopub.status.idle": "2022-01-26T19:15:49.236753Z",
     "shell.execute_reply": "2022-01-26T19:15:49.236128Z",
     "shell.execute_reply.started": "2022-01-26T18:25:17.569146Z"
    },
    "papermill": {
     "duration": 0.261352,
     "end_time": "2022-01-26T19:15:49.236897",
     "exception": false,
     "start_time": "2022-01-26T19:15:48.975545",
     "status": "completed"
    },
    "tags": []
   },
   "outputs": [
    {
     "name": "stderr",
     "output_type": "stream",
     "text": [
      "/opt/conda/lib/python3.7/site-packages/seaborn/_decorators.py:43: FutureWarning:\n",
      "\n",
      "Pass the following variable as a keyword arg: x. From version 0.12, the only valid positional argument will be `data`, and passing other arguments without an explicit keyword will result in an error or misinterpretation.\n",
      "\n"
     ]
    },
    {
     "data": {
      "text/plain": [
       "<AxesSubplot:xlabel='Embarked', ylabel='count'>"
      ]
     },
     "execution_count": 23,
     "metadata": {},
     "output_type": "execute_result"
    },
    {
     "data": {
      "image/png": "[encoded data removed]",
      "text/plain": [
       "<Figure size 432x288 with 1 Axes>"
      ]
     },
     "metadata": {
      "needs_background": "light"
     },
     "output_type": "display_data"
    }
   ],
   "source": [
    "sns.countplot(train[\"Embarked\"],hue=train[\"Survived\"])"
   ]
  },
  {
   "cell_type": "code",
   "execution_count": 24,
   "id": "1e892ba0",
   "metadata": {
    "execution": {
     "iopub.execute_input": "2022-01-26T19:15:49.385191Z",
     "iopub.status.busy": "2022-01-26T19:15:49.379692Z",
     "iopub.status.idle": "2022-01-26T19:15:49.560338Z",
     "shell.execute_reply": "2022-01-26T19:15:49.560743Z",
     "shell.execute_reply.started": "2022-01-26T18:26:57.551990Z"
    },
    "papermill": {
     "duration": 0.254067,
     "end_time": "2022-01-26T19:15:49.560891",
     "exception": false,
     "start_time": "2022-01-26T19:15:49.306824",
     "status": "completed"
    },
    "tags": []
   },
   "outputs": [
    {
     "name": "stderr",
     "output_type": "stream",
     "text": [
      "/opt/conda/lib/python3.7/site-packages/seaborn/_decorators.py:43: FutureWarning:\n",
      "\n",
      "Pass the following variable as a keyword arg: x. From version 0.12, the only valid positional argument will be `data`, and passing other arguments without an explicit keyword will result in an error or misinterpretation.\n",
      "\n"
     ]
    },
    {
     "data": {
      "text/plain": [
       "<AxesSubplot:xlabel='Pclass', ylabel='count'>"
      ]
     },
     "execution_count": 24,
     "metadata": {},
     "output_type": "execute_result"
    },
    {
     "data": {
      "image/png": "[encoded data removed]",
      "text/plain": [
       "<Figure size 432x288 with 1 Axes>"
      ]
     },
     "metadata": {
      "needs_background": "light"
     },
     "output_type": "display_data"
    }
   ],
   "source": [
    "sns.countplot(train[\"Pclass\"],hue=train[\"Survived\"])"
   ]
  },
  {
   "cell_type": "code",
   "execution_count": 25,
   "id": "72232f31",
   "metadata": {
    "execution": {
     "iopub.execute_input": "2022-01-26T19:15:49.663316Z",
     "iopub.status.busy": "2022-01-26T19:15:49.661666Z",
     "iopub.status.idle": "2022-01-26T19:15:49.826747Z",
     "shell.execute_reply": "2022-01-26T19:15:49.827461Z",
     "shell.execute_reply.started": "2022-01-26T18:29:12.021790Z"
    },
    "papermill": {
     "duration": 0.218748,
     "end_time": "2022-01-26T19:15:49.827682",
     "exception": false,
     "start_time": "2022-01-26T19:15:49.608934",
     "status": "completed"
    },
    "tags": []
   },
   "outputs": [
    {
     "name": "stderr",
     "output_type": "stream",
     "text": [
      "/opt/conda/lib/python3.7/site-packages/seaborn/_decorators.py:43: FutureWarning:\n",
      "\n",
      "Pass the following variable as a keyword arg: x. From version 0.12, the only valid positional argument will be `data`, and passing other arguments without an explicit keyword will result in an error or misinterpretation.\n",
      "\n"
     ]
    },
    {
     "data": {
      "text/plain": [
       "<AxesSubplot:xlabel='Sex', ylabel='count'>"
      ]
     },
     "execution_count": 25,
     "metadata": {},
     "output_type": "execute_result"
    },
    {
     "data": {
      "image/png": "[encoded data removed]",
      "text/plain": [
       "<Figure size 432x288 with 1 Axes>"
      ]
     },
     "metadata": {
      "needs_background": "light"
     },
     "output_type": "display_data"
    }
   ],
   "source": [
    "sns.countplot(train[\"Sex\"],hue=train[\"Survived\"])"
   ]
  },
  {
   "cell_type": "markdown",
   "id": "53a22046",
   "metadata": {
    "papermill": {
     "duration": 0.071084,
     "end_time": "2022-01-26T19:15:49.970153",
     "exception": false,
     "start_time": "2022-01-26T19:15:49.899069",
     "status": "completed"
    },
    "tags": []
   },
   "source": [
    "## Some Summary after Analysis Train DataSet\n",
    "\n",
    "- Percentage of survivors 62% and non-survivors 38% .\n",
    "- The highest percentage of survivors are women.\n",
    "- The highest percentage of survivors is Class 3 at the bottom of the ship. \n",
    "- The highest percentage of survivors and non-survivors who climbed from Embarked was named S , And the lowest percentage of Embarked is called Q. \n",
    "\n",
    "- The percentage of males is 65% and females 35%.\n",
    "- The average age is 29 years, there are children and there are elderly people . \n",
    "- Average ticket price 32 ."
   ]
  },
  {
   "cell_type": "markdown",
   "id": "fe9aee3e",
   "metadata": {
    "papermill": {
     "duration": 0.071731,
     "end_time": "2022-01-26T19:15:50.112881",
     "exception": false,
     "start_time": "2022-01-26T19:15:50.041150",
     "status": "completed"
    },
    "tags": []
   },
   "source": [
    "## After take knowledge about the data let start building model"
   ]
  },
  {
   "cell_type": "code",
   "execution_count": 26,
   "id": "73e63eed",
   "metadata": {
    "execution": {
     "iopub.execute_input": "2022-01-26T19:15:50.262562Z",
     "iopub.status.busy": "2022-01-26T19:15:50.259734Z",
     "iopub.status.idle": "2022-01-26T19:15:50.276510Z",
     "shell.execute_reply": "2022-01-26T19:15:50.277025Z",
     "shell.execute_reply.started": "2022-01-26T18:37:49.230293Z"
    },
    "papermill": {
     "duration": 0.092902,
     "end_time": "2022-01-26T19:15:50.277214",
     "exception": false,
     "start_time": "2022-01-26T19:15:50.184312",
     "status": "completed"
    },
    "tags": []
   },
   "outputs": [
    {
     "data": {
      "text/html": [
       "<div>\n",
       "<style scoped>\n",
       "    .dataframe tbody tr th:only-of-type {\n",
       "        vertical-align: middle;\n",
       "    }\n",
       "\n",
       "    .dataframe tbody tr th {\n",
       "        vertical-align: top;\n",
       "    }\n",
       "\n",
       "    .dataframe thead th {\n",
       "        text-align: right;\n",
       "    }\n",
       "</style>\n",
       "<table border=\"1\" class=\"dataframe\">\n",
       "  <thead>\n",
       "    <tr style=\"text-align: right;\">\n",
       "      <th></th>\n",
       "      <th>PassengerId</th>\n",
       "      <th>Survived</th>\n",
       "      <th>Pclass</th>\n",
       "      <th>Name</th>\n",
       "      <th>Sex</th>\n",
       "      <th>Age</th>\n",
       "      <th>SibSp</th>\n",
       "      <th>Parch</th>\n",
       "      <th>Ticket</th>\n",
       "      <th>Fare</th>\n",
       "      <th>Embarked</th>\n",
       "    </tr>\n",
       "  </thead>\n",
       "  <tbody>\n",
       "    <tr>\n",
       "      <th>0</th>\n",
       "      <td>1</td>\n",
       "      <td>0</td>\n",
       "      <td>3</td>\n",
       "      <td>Braund, Mr. Owen Harris</td>\n",
       "      <td>male</td>\n",
       "      <td>22.0</td>\n",
       "      <td>1</td>\n",
       "      <td>0</td>\n",
       "      <td>A/5 21171</td>\n",
       "      <td>7.2500</td>\n",
       "      <td>S</td>\n",
       "    </tr>\n",
       "    <tr>\n",
       "      <th>1</th>\n",
       "      <td>2</td>\n",
       "      <td>1</td>\n",
       "      <td>1</td>\n",
       "      <td>Cumings, Mrs. John Bradley (Florence Briggs Th...</td>\n",
       "      <td>female</td>\n",
       "      <td>38.0</td>\n",
       "      <td>1</td>\n",
       "      <td>0</td>\n",
       "      <td>PC 17599</td>\n",
       "      <td>71.2833</td>\n",
       "      <td>C</td>\n",
       "    </tr>\n",
       "    <tr>\n",
       "      <th>2</th>\n",
       "      <td>3</td>\n",
       "      <td>1</td>\n",
       "      <td>3</td>\n",
       "      <td>Heikkinen, Miss. Laina</td>\n",
       "      <td>female</td>\n",
       "      <td>26.0</td>\n",
       "      <td>0</td>\n",
       "      <td>0</td>\n",
       "      <td>STON/O2. 3101282</td>\n",
       "      <td>7.9250</td>\n",
       "      <td>S</td>\n",
       "    </tr>\n",
       "    <tr>\n",
       "      <th>3</th>\n",
       "      <td>4</td>\n",
       "      <td>1</td>\n",
       "      <td>1</td>\n",
       "      <td>Futrelle, Mrs. Jacques Heath (Lily May Peel)</td>\n",
       "      <td>female</td>\n",
       "      <td>35.0</td>\n",
       "      <td>1</td>\n",
       "      <td>0</td>\n",
       "      <td>113803</td>\n",
       "      <td>53.1000</td>\n",
       "      <td>S</td>\n",
       "    </tr>\n",
       "    <tr>\n",
       "      <th>4</th>\n",
       "      <td>5</td>\n",
       "      <td>0</td>\n",
       "      <td>3</td>\n",
       "      <td>Allen, Mr. William Henry</td>\n",
       "      <td>male</td>\n",
       "      <td>35.0</td>\n",
       "      <td>0</td>\n",
       "      <td>0</td>\n",
       "      <td>373450</td>\n",
       "      <td>8.0500</td>\n",
       "      <td>S</td>\n",
       "    </tr>\n",
       "  </tbody>\n",
       "</table>\n",
       "</div>"
      ],
      "text/plain": [
       "   PassengerId  Survived  Pclass  \\\n",
       "0            1         0       3   \n",
       "1            2         1       1   \n",
       "2            3         1       3   \n",
       "3            4         1       1   \n",
       "4            5         0       3   \n",
       "\n",
       "                                                Name     Sex   Age  SibSp  \\\n",
       "0                            Braund, Mr. Owen Harris    male  22.0      1   \n",
       "1  Cumings, Mrs. John Bradley (Florence Briggs Th...  female  38.0      1   \n",
       "2                             Heikkinen, Miss. Laina  female  26.0      0   \n",
       "3       Futrelle, Mrs. Jacques Heath (Lily May Peel)  female  35.0      1   \n",
       "4                           Allen, Mr. William Henry    male  35.0      0   \n",
       "\n",
       "   Parch            Ticket     Fare Embarked  \n",
       "0      0         A/5 21171   7.2500        S  \n",
       "1      0          PC 17599  71.2833        C  \n",
       "2      0  STON/O2. 3101282   7.9250        S  \n",
       "3      0            113803  53.1000        S  \n",
       "4      0            373450   8.0500        S  "
      ]
     },
     "execution_count": 26,
     "metadata": {},
     "output_type": "execute_result"
    }
   ],
   "source": [
    "train.head()"
   ]
  },
  {
   "cell_type": "code",
   "execution_count": 27,
   "id": "ce3fc442",
   "metadata": {
    "execution": {
     "iopub.execute_input": "2022-01-26T19:15:50.427712Z",
     "iopub.status.busy": "2022-01-26T19:15:50.426892Z",
     "iopub.status.idle": "2022-01-26T19:15:50.432708Z",
     "shell.execute_reply": "2022-01-26T19:15:50.433341Z",
     "shell.execute_reply.started": "2022-01-26T18:42:04.461457Z"
    },
    "papermill": {
     "duration": 0.082203,
     "end_time": "2022-01-26T19:15:50.433535",
     "exception": false,
     "start_time": "2022-01-26T19:15:50.351332",
     "status": "completed"
    },
    "tags": []
   },
   "outputs": [],
   "source": [
    "sex=pd.get_dummies(train[\"Sex\"],drop_first=True)"
   ]
  },
  {
   "cell_type": "code",
   "execution_count": 28,
   "id": "9941dfe2",
   "metadata": {
    "execution": {
     "iopub.execute_input": "2022-01-26T19:15:50.586410Z",
     "iopub.status.busy": "2022-01-26T19:15:50.585549Z",
     "iopub.status.idle": "2022-01-26T19:15:50.589911Z",
     "shell.execute_reply": "2022-01-26T19:15:50.589297Z",
     "shell.execute_reply.started": "2022-01-26T18:42:47.640466Z"
    },
    "papermill": {
     "duration": 0.082727,
     "end_time": "2022-01-26T19:15:50.590070",
     "exception": false,
     "start_time": "2022-01-26T19:15:50.507343",
     "status": "completed"
    },
    "tags": []
   },
   "outputs": [],
   "source": [
    "embarked=pd.get_dummies(train[\"Embarked\"],drop_first=True)"
   ]
  },
  {
   "cell_type": "code",
   "execution_count": 29,
   "id": "4e9ac8a1",
   "metadata": {
    "execution": {
     "iopub.execute_input": "2022-01-26T19:15:50.743532Z",
     "iopub.status.busy": "2022-01-26T19:15:50.742696Z",
     "iopub.status.idle": "2022-01-26T19:15:50.746770Z",
     "shell.execute_reply": "2022-01-26T19:15:50.745932Z",
     "shell.execute_reply.started": "2022-01-26T18:46:15.812867Z"
    },
    "papermill": {
     "duration": 0.084233,
     "end_time": "2022-01-26T19:15:50.746919",
     "exception": false,
     "start_time": "2022-01-26T19:15:50.662686",
     "status": "completed"
    },
    "tags": []
   },
   "outputs": [],
   "source": [
    "new_data=pd.concat([train,sex,embarked],axis=1)"
   ]
  },
  {
   "cell_type": "code",
   "execution_count": 30,
   "id": "cf38f300",
   "metadata": {
    "execution": {
     "iopub.execute_input": "2022-01-26T19:15:50.898255Z",
     "iopub.status.busy": "2022-01-26T19:15:50.897556Z",
     "iopub.status.idle": "2022-01-26T19:15:50.913456Z",
     "shell.execute_reply": "2022-01-26T19:15:50.913982Z",
     "shell.execute_reply.started": "2022-01-26T18:46:25.581286Z"
    },
    "papermill": {
     "duration": 0.093705,
     "end_time": "2022-01-26T19:15:50.914156",
     "exception": false,
     "start_time": "2022-01-26T19:15:50.820451",
     "status": "completed"
    },
    "tags": []
   },
   "outputs": [
    {
     "data": {
      "text/html": [
       "<div>\n",
       "<style scoped>\n",
       "    .dataframe tbody tr th:only-of-type {\n",
       "        vertical-align: middle;\n",
       "    }\n",
       "\n",
       "    .dataframe tbody tr th {\n",
       "        vertical-align: top;\n",
       "    }\n",
       "\n",
       "    .dataframe thead th {\n",
       "        text-align: right;\n",
       "    }\n",
       "</style>\n",
       "<table border=\"1\" class=\"dataframe\">\n",
       "  <thead>\n",
       "    <tr style=\"text-align: right;\">\n",
       "      <th></th>\n",
       "      <th>PassengerId</th>\n",
       "      <th>Survived</th>\n",
       "      <th>Pclass</th>\n",
       "      <th>Name</th>\n",
       "      <th>Sex</th>\n",
       "      <th>Age</th>\n",
       "      <th>SibSp</th>\n",
       "      <th>Parch</th>\n",
       "      <th>Ticket</th>\n",
       "      <th>Fare</th>\n",
       "      <th>Embarked</th>\n",
       "      <th>male</th>\n",
       "      <th>Q</th>\n",
       "      <th>S</th>\n",
       "    </tr>\n",
       "  </thead>\n",
       "  <tbody>\n",
       "    <tr>\n",
       "      <th>0</th>\n",
       "      <td>1</td>\n",
       "      <td>0</td>\n",
       "      <td>3</td>\n",
       "      <td>Braund, Mr. Owen Harris</td>\n",
       "      <td>male</td>\n",
       "      <td>22.0</td>\n",
       "      <td>1</td>\n",
       "      <td>0</td>\n",
       "      <td>A/5 21171</td>\n",
       "      <td>7.2500</td>\n",
       "      <td>S</td>\n",
       "      <td>1</td>\n",
       "      <td>0</td>\n",
       "      <td>1</td>\n",
       "    </tr>\n",
       "    <tr>\n",
       "      <th>1</th>\n",
       "      <td>2</td>\n",
       "      <td>1</td>\n",
       "      <td>1</td>\n",
       "      <td>Cumings, Mrs. John Bradley (Florence Briggs Th...</td>\n",
       "      <td>female</td>\n",
       "      <td>38.0</td>\n",
       "      <td>1</td>\n",
       "      <td>0</td>\n",
       "      <td>PC 17599</td>\n",
       "      <td>71.2833</td>\n",
       "      <td>C</td>\n",
       "      <td>0</td>\n",
       "      <td>0</td>\n",
       "      <td>0</td>\n",
       "    </tr>\n",
       "    <tr>\n",
       "      <th>2</th>\n",
       "      <td>3</td>\n",
       "      <td>1</td>\n",
       "      <td>3</td>\n",
       "      <td>Heikkinen, Miss. Laina</td>\n",
       "      <td>female</td>\n",
       "      <td>26.0</td>\n",
       "      <td>0</td>\n",
       "      <td>0</td>\n",
       "      <td>STON/O2. 3101282</td>\n",
       "      <td>7.9250</td>\n",
       "      <td>S</td>\n",
       "      <td>0</td>\n",
       "      <td>0</td>\n",
       "      <td>1</td>\n",
       "    </tr>\n",
       "    <tr>\n",
       "      <th>3</th>\n",
       "      <td>4</td>\n",
       "      <td>1</td>\n",
       "      <td>1</td>\n",
       "      <td>Futrelle, Mrs. Jacques Heath (Lily May Peel)</td>\n",
       "      <td>female</td>\n",
       "      <td>35.0</td>\n",
       "      <td>1</td>\n",
       "      <td>0</td>\n",
       "      <td>113803</td>\n",
       "      <td>53.1000</td>\n",
       "      <td>S</td>\n",
       "      <td>0</td>\n",
       "      <td>0</td>\n",
       "      <td>1</td>\n",
       "    </tr>\n",
       "    <tr>\n",
       "      <th>4</th>\n",
       "      <td>5</td>\n",
       "      <td>0</td>\n",
       "      <td>3</td>\n",
       "      <td>Allen, Mr. William Henry</td>\n",
       "      <td>male</td>\n",
       "      <td>35.0</td>\n",
       "      <td>0</td>\n",
       "      <td>0</td>\n",
       "      <td>373450</td>\n",
       "      <td>8.0500</td>\n",
       "      <td>S</td>\n",
       "      <td>1</td>\n",
       "      <td>0</td>\n",
       "      <td>1</td>\n",
       "    </tr>\n",
       "  </tbody>\n",
       "</table>\n",
       "</div>"
      ],
      "text/plain": [
       "   PassengerId  Survived  Pclass  \\\n",
       "0            1         0       3   \n",
       "1            2         1       1   \n",
       "2            3         1       3   \n",
       "3            4         1       1   \n",
       "4            5         0       3   \n",
       "\n",
       "                                                Name     Sex   Age  SibSp  \\\n",
       "0                            Braund, Mr. Owen Harris    male  22.0      1   \n",
       "1  Cumings, Mrs. John Bradley (Florence Briggs Th...  female  38.0      1   \n",
       "2                             Heikkinen, Miss. Laina  female  26.0      0   \n",
       "3       Futrelle, Mrs. Jacques Heath (Lily May Peel)  female  35.0      1   \n",
       "4                           Allen, Mr. William Henry    male  35.0      0   \n",
       "\n",
       "   Parch            Ticket     Fare Embarked  male  Q  S  \n",
       "0      0         A/5 21171   7.2500        S     1  0  1  \n",
       "1      0          PC 17599  71.2833        C     0  0  0  \n",
       "2      0  STON/O2. 3101282   7.9250        S     0  0  1  \n",
       "3      0            113803  53.1000        S     0  0  1  \n",
       "4      0            373450   8.0500        S     1  0  1  "
      ]
     },
     "execution_count": 30,
     "metadata": {},
     "output_type": "execute_result"
    }
   ],
   "source": [
    "new_data.head()"
   ]
  },
  {
   "cell_type": "code",
   "execution_count": 31,
   "id": "4aad05e0",
   "metadata": {
    "execution": {
     "iopub.execute_input": "2022-01-26T19:15:51.083470Z",
     "iopub.status.busy": "2022-01-26T19:15:51.082796Z",
     "iopub.status.idle": "2022-01-26T19:15:51.087271Z",
     "shell.execute_reply": "2022-01-26T19:15:51.087910Z",
     "shell.execute_reply.started": "2022-01-26T18:49:15.040107Z"
    },
    "papermill": {
     "duration": 0.089826,
     "end_time": "2022-01-26T19:15:51.088109",
     "exception": false,
     "start_time": "2022-01-26T19:15:50.998283",
     "status": "completed"
    },
    "tags": []
   },
   "outputs": [],
   "source": [
    "# Drop the some columns\n",
    "new_data.drop(columns=[\"Name\",\"Sex\",\"Ticket\",\"Embarked\"],axis=1,inplace=True)"
   ]
  },
  {
   "cell_type": "code",
   "execution_count": 32,
   "id": "bd17c864",
   "metadata": {
    "execution": {
     "iopub.execute_input": "2022-01-26T19:15:51.238478Z",
     "iopub.status.busy": "2022-01-26T19:15:51.237824Z",
     "iopub.status.idle": "2022-01-26T19:15:51.248758Z",
     "shell.execute_reply": "2022-01-26T19:15:51.249293Z",
     "shell.execute_reply.started": "2022-01-26T18:49:17.670511Z"
    },
    "papermill": {
     "duration": 0.087033,
     "end_time": "2022-01-26T19:15:51.249464",
     "exception": false,
     "start_time": "2022-01-26T19:15:51.162431",
     "status": "completed"
    },
    "tags": []
   },
   "outputs": [
    {
     "name": "stdout",
     "output_type": "stream",
     "text": [
      "<class 'pandas.core.frame.DataFrame'>\n",
      "Int64Index: 889 entries, 0 to 890\n",
      "Data columns (total 10 columns):\n",
      " #   Column       Non-Null Count  Dtype  \n",
      "---  ------       --------------  -----  \n",
      " 0   PassengerId  889 non-null    int64  \n",
      " 1   Survived     889 non-null    int64  \n",
      " 2   Pclass       889 non-null    int64  \n",
      " 3   Age          889 non-null    float64\n",
      " 4   SibSp        889 non-null    int64  \n",
      " 5   Parch        889 non-null    int64  \n",
      " 6   Fare         889 non-null    float64\n",
      " 7   male         889 non-null    uint8  \n",
      " 8   Q            889 non-null    uint8  \n",
      " 9   S            889 non-null    uint8  \n",
      "dtypes: float64(2), int64(5), uint8(3)\n",
      "memory usage: 90.5 KB\n"
     ]
    }
   ],
   "source": [
    "new_data.info()"
   ]
  },
  {
   "cell_type": "code",
   "execution_count": 33,
   "id": "0194bbf6",
   "metadata": {
    "execution": {
     "iopub.execute_input": "2022-01-26T19:15:51.413566Z",
     "iopub.status.busy": "2022-01-26T19:15:51.412915Z",
     "iopub.status.idle": "2022-01-26T19:15:51.415558Z",
     "shell.execute_reply": "2022-01-26T19:15:51.416087Z",
     "shell.execute_reply.started": "2022-01-26T18:49:34.432396Z"
    },
    "papermill": {
     "duration": 0.093413,
     "end_time": "2022-01-26T19:15:51.416256",
     "exception": false,
     "start_time": "2022-01-26T19:15:51.322843",
     "status": "completed"
    },
    "tags": []
   },
   "outputs": [
    {
     "data": {
      "text/html": [
       "<div>\n",
       "<style scoped>\n",
       "    .dataframe tbody tr th:only-of-type {\n",
       "        vertical-align: middle;\n",
       "    }\n",
       "\n",
       "    .dataframe tbody tr th {\n",
       "        vertical-align: top;\n",
       "    }\n",
       "\n",
       "    .dataframe thead th {\n",
       "        text-align: right;\n",
       "    }\n",
       "</style>\n",
       "<table border=\"1\" class=\"dataframe\">\n",
       "  <thead>\n",
       "    <tr style=\"text-align: right;\">\n",
       "      <th></th>\n",
       "      <th>PassengerId</th>\n",
       "      <th>Pclass</th>\n",
       "      <th>Name</th>\n",
       "      <th>Sex</th>\n",
       "      <th>Age</th>\n",
       "      <th>SibSp</th>\n",
       "      <th>Parch</th>\n",
       "      <th>Ticket</th>\n",
       "      <th>Fare</th>\n",
       "      <th>Cabin</th>\n",
       "      <th>Embarked</th>\n",
       "    </tr>\n",
       "  </thead>\n",
       "  <tbody>\n",
       "    <tr>\n",
       "      <th>0</th>\n",
       "      <td>892</td>\n",
       "      <td>3</td>\n",
       "      <td>Kelly, Mr. James</td>\n",
       "      <td>male</td>\n",
       "      <td>34.5</td>\n",
       "      <td>0</td>\n",
       "      <td>0</td>\n",
       "      <td>330911</td>\n",
       "      <td>7.8292</td>\n",
       "      <td>NaN</td>\n",
       "      <td>Q</td>\n",
       "    </tr>\n",
       "    <tr>\n",
       "      <th>1</th>\n",
       "      <td>893</td>\n",
       "      <td>3</td>\n",
       "      <td>Wilkes, Mrs. James (Ellen Needs)</td>\n",
       "      <td>female</td>\n",
       "      <td>47.0</td>\n",
       "      <td>1</td>\n",
       "      <td>0</td>\n",
       "      <td>363272</td>\n",
       "      <td>7.0000</td>\n",
       "      <td>NaN</td>\n",
       "      <td>S</td>\n",
       "    </tr>\n",
       "    <tr>\n",
       "      <th>2</th>\n",
       "      <td>894</td>\n",
       "      <td>2</td>\n",
       "      <td>Myles, Mr. Thomas Francis</td>\n",
       "      <td>male</td>\n",
       "      <td>62.0</td>\n",
       "      <td>0</td>\n",
       "      <td>0</td>\n",
       "      <td>240276</td>\n",
       "      <td>9.6875</td>\n",
       "      <td>NaN</td>\n",
       "      <td>Q</td>\n",
       "    </tr>\n",
       "    <tr>\n",
       "      <th>3</th>\n",
       "      <td>895</td>\n",
       "      <td>3</td>\n",
       "      <td>Wirz, Mr. Albert</td>\n",
       "      <td>male</td>\n",
       "      <td>27.0</td>\n",
       "      <td>0</td>\n",
       "      <td>0</td>\n",
       "      <td>315154</td>\n",
       "      <td>8.6625</td>\n",
       "      <td>NaN</td>\n",
       "      <td>S</td>\n",
       "    </tr>\n",
       "    <tr>\n",
       "      <th>4</th>\n",
       "      <td>896</td>\n",
       "      <td>3</td>\n",
       "      <td>Hirvonen, Mrs. Alexander (Helga E Lindqvist)</td>\n",
       "      <td>female</td>\n",
       "      <td>22.0</td>\n",
       "      <td>1</td>\n",
       "      <td>1</td>\n",
       "      <td>3101298</td>\n",
       "      <td>12.2875</td>\n",
       "      <td>NaN</td>\n",
       "      <td>S</td>\n",
       "    </tr>\n",
       "  </tbody>\n",
       "</table>\n",
       "</div>"
      ],
      "text/plain": [
       "   PassengerId  Pclass                                          Name     Sex  \\\n",
       "0          892       3                              Kelly, Mr. James    male   \n",
       "1          893       3              Wilkes, Mrs. James (Ellen Needs)  female   \n",
       "2          894       2                     Myles, Mr. Thomas Francis    male   \n",
       "3          895       3                              Wirz, Mr. Albert    male   \n",
       "4          896       3  Hirvonen, Mrs. Alexander (Helga E Lindqvist)  female   \n",
       "\n",
       "    Age  SibSp  Parch   Ticket     Fare Cabin Embarked  \n",
       "0  34.5      0      0   330911   7.8292   NaN        Q  \n",
       "1  47.0      1      0   363272   7.0000   NaN        S  \n",
       "2  62.0      0      0   240276   9.6875   NaN        Q  \n",
       "3  27.0      0      0   315154   8.6625   NaN        S  \n",
       "4  22.0      1      1  3101298  12.2875   NaN        S  "
      ]
     },
     "execution_count": 33,
     "metadata": {},
     "output_type": "execute_result"
    }
   ],
   "source": [
    "test.head()"
   ]
  },
  {
   "cell_type": "code",
   "execution_count": 34,
   "id": "7d01146b",
   "metadata": {
    "execution": {
     "iopub.execute_input": "2022-01-26T19:15:51.572168Z",
     "iopub.status.busy": "2022-01-26T19:15:51.571238Z",
     "iopub.status.idle": "2022-01-26T19:15:51.572983Z",
     "shell.execute_reply": "2022-01-26T19:15:51.573486Z",
     "shell.execute_reply.started": "2022-01-26T18:51:51.199794Z"
    },
    "papermill": {
     "duration": 0.083884,
     "end_time": "2022-01-26T19:15:51.573667",
     "exception": false,
     "start_time": "2022-01-26T19:15:51.489783",
     "status": "completed"
    },
    "tags": []
   },
   "outputs": [],
   "source": [
    "sex1=pd.get_dummies(test[\"Sex\"],drop_first=True)\n",
    "embarked1=pd.get_dummies(test[\"Embarked\"],drop_first=True)"
   ]
  },
  {
   "cell_type": "code",
   "execution_count": 35,
   "id": "e1b27e23",
   "metadata": {
    "execution": {
     "iopub.execute_input": "2022-01-26T19:15:51.725567Z",
     "iopub.status.busy": "2022-01-26T19:15:51.724767Z",
     "iopub.status.idle": "2022-01-26T19:15:51.737991Z",
     "shell.execute_reply": "2022-01-26T19:15:51.738557Z",
     "shell.execute_reply.started": "2022-01-26T18:52:12.062301Z"
    },
    "papermill": {
     "duration": 0.090732,
     "end_time": "2022-01-26T19:15:51.738744",
     "exception": false,
     "start_time": "2022-01-26T19:15:51.648012",
     "status": "completed"
    },
    "tags": []
   },
   "outputs": [],
   "source": [
    "new_data_test=pd.concat([train,sex1,embarked1],axis=1)"
   ]
  },
  {
   "cell_type": "code",
   "execution_count": 36,
   "id": "c6775bf8",
   "metadata": {
    "execution": {
     "iopub.execute_input": "2022-01-26T19:15:51.889204Z",
     "iopub.status.busy": "2022-01-26T19:15:51.888359Z",
     "iopub.status.idle": "2022-01-26T19:15:51.893858Z",
     "shell.execute_reply": "2022-01-26T19:15:51.894406Z",
     "shell.execute_reply.started": "2022-01-26T18:53:37.745782Z"
    },
    "papermill": {
     "duration": 0.082372,
     "end_time": "2022-01-26T19:15:51.894570",
     "exception": false,
     "start_time": "2022-01-26T19:15:51.812198",
     "status": "completed"
    },
    "tags": []
   },
   "outputs": [],
   "source": [
    "new_data_test.drop(columns=[\"Name\",\"Sex\",\"Ticket\",\"Embarked\"],axis=1,inplace=True)"
   ]
  },
  {
   "cell_type": "code",
   "execution_count": 37,
   "id": "bf2c65ba",
   "metadata": {
    "execution": {
     "iopub.execute_input": "2022-01-26T19:15:52.051109Z",
     "iopub.status.busy": "2022-01-26T19:15:52.050239Z",
     "iopub.status.idle": "2022-01-26T19:15:52.070000Z",
     "shell.execute_reply": "2022-01-26T19:15:52.070598Z",
     "shell.execute_reply.started": "2022-01-26T18:53:47.071755Z"
    },
    "papermill": {
     "duration": 0.097948,
     "end_time": "2022-01-26T19:15:52.070799",
     "exception": false,
     "start_time": "2022-01-26T19:15:51.972851",
     "status": "completed"
    },
    "tags": []
   },
   "outputs": [
    {
     "data": {
      "text/html": [
       "<div>\n",
       "<style scoped>\n",
       "    .dataframe tbody tr th:only-of-type {\n",
       "        vertical-align: middle;\n",
       "    }\n",
       "\n",
       "    .dataframe tbody tr th {\n",
       "        vertical-align: top;\n",
       "    }\n",
       "\n",
       "    .dataframe thead th {\n",
       "        text-align: right;\n",
       "    }\n",
       "</style>\n",
       "<table border=\"1\" class=\"dataframe\">\n",
       "  <thead>\n",
       "    <tr style=\"text-align: right;\">\n",
       "      <th></th>\n",
       "      <th>PassengerId</th>\n",
       "      <th>Survived</th>\n",
       "      <th>Pclass</th>\n",
       "      <th>Age</th>\n",
       "      <th>SibSp</th>\n",
       "      <th>Parch</th>\n",
       "      <th>Fare</th>\n",
       "      <th>male</th>\n",
       "      <th>Q</th>\n",
       "      <th>S</th>\n",
       "    </tr>\n",
       "  </thead>\n",
       "  <tbody>\n",
       "    <tr>\n",
       "      <th>0</th>\n",
       "      <td>1.0</td>\n",
       "      <td>0.0</td>\n",
       "      <td>3.0</td>\n",
       "      <td>22.0</td>\n",
       "      <td>1.0</td>\n",
       "      <td>0.0</td>\n",
       "      <td>7.2500</td>\n",
       "      <td>1.0</td>\n",
       "      <td>1.0</td>\n",
       "      <td>0.0</td>\n",
       "    </tr>\n",
       "    <tr>\n",
       "      <th>1</th>\n",
       "      <td>2.0</td>\n",
       "      <td>1.0</td>\n",
       "      <td>1.0</td>\n",
       "      <td>38.0</td>\n",
       "      <td>1.0</td>\n",
       "      <td>0.0</td>\n",
       "      <td>71.2833</td>\n",
       "      <td>0.0</td>\n",
       "      <td>0.0</td>\n",
       "      <td>1.0</td>\n",
       "    </tr>\n",
       "    <tr>\n",
       "      <th>2</th>\n",
       "      <td>3.0</td>\n",
       "      <td>1.0</td>\n",
       "      <td>3.0</td>\n",
       "      <td>26.0</td>\n",
       "      <td>0.0</td>\n",
       "      <td>0.0</td>\n",
       "      <td>7.9250</td>\n",
       "      <td>1.0</td>\n",
       "      <td>1.0</td>\n",
       "      <td>0.0</td>\n",
       "    </tr>\n",
       "    <tr>\n",
       "      <th>3</th>\n",
       "      <td>4.0</td>\n",
       "      <td>1.0</td>\n",
       "      <td>1.0</td>\n",
       "      <td>35.0</td>\n",
       "      <td>1.0</td>\n",
       "      <td>0.0</td>\n",
       "      <td>53.1000</td>\n",
       "      <td>1.0</td>\n",
       "      <td>0.0</td>\n",
       "      <td>1.0</td>\n",
       "    </tr>\n",
       "    <tr>\n",
       "      <th>4</th>\n",
       "      <td>5.0</td>\n",
       "      <td>0.0</td>\n",
       "      <td>3.0</td>\n",
       "      <td>35.0</td>\n",
       "      <td>0.0</td>\n",
       "      <td>0.0</td>\n",
       "      <td>8.0500</td>\n",
       "      <td>0.0</td>\n",
       "      <td>0.0</td>\n",
       "      <td>1.0</td>\n",
       "    </tr>\n",
       "  </tbody>\n",
       "</table>\n",
       "</div>"
      ],
      "text/plain": [
       "   PassengerId  Survived  Pclass   Age  SibSp  Parch     Fare  male    Q    S\n",
       "0          1.0       0.0     3.0  22.0    1.0    0.0   7.2500   1.0  1.0  0.0\n",
       "1          2.0       1.0     1.0  38.0    1.0    0.0  71.2833   0.0  0.0  1.0\n",
       "2          3.0       1.0     3.0  26.0    0.0    0.0   7.9250   1.0  1.0  0.0\n",
       "3          4.0       1.0     1.0  35.0    1.0    0.0  53.1000   1.0  0.0  1.0\n",
       "4          5.0       0.0     3.0  35.0    0.0    0.0   8.0500   0.0  0.0  1.0"
      ]
     },
     "execution_count": 37,
     "metadata": {},
     "output_type": "execute_result"
    }
   ],
   "source": [
    "new_data_test.head()"
   ]
  },
  {
   "cell_type": "code",
   "execution_count": 38,
   "id": "32845ce4",
   "metadata": {
    "execution": {
     "iopub.execute_input": "2022-01-26T19:15:52.222288Z",
     "iopub.status.busy": "2022-01-26T19:15:52.221458Z",
     "iopub.status.idle": "2022-01-26T19:15:52.235939Z",
     "shell.execute_reply": "2022-01-26T19:15:52.236551Z",
     "shell.execute_reply.started": "2022-01-26T18:54:03.601552Z"
    },
    "papermill": {
     "duration": 0.092178,
     "end_time": "2022-01-26T19:15:52.236745",
     "exception": false,
     "start_time": "2022-01-26T19:15:52.144567",
     "status": "completed"
    },
    "tags": []
   },
   "outputs": [
    {
     "data": {
      "text/html": [
       "<div>\n",
       "<style scoped>\n",
       "    .dataframe tbody tr th:only-of-type {\n",
       "        vertical-align: middle;\n",
       "    }\n",
       "\n",
       "    .dataframe tbody tr th {\n",
       "        vertical-align: top;\n",
       "    }\n",
       "\n",
       "    .dataframe thead th {\n",
       "        text-align: right;\n",
       "    }\n",
       "</style>\n",
       "<table border=\"1\" class=\"dataframe\">\n",
       "  <thead>\n",
       "    <tr style=\"text-align: right;\">\n",
       "      <th></th>\n",
       "      <th>PassengerId</th>\n",
       "      <th>Survived</th>\n",
       "      <th>Pclass</th>\n",
       "      <th>Age</th>\n",
       "      <th>SibSp</th>\n",
       "      <th>Parch</th>\n",
       "      <th>Fare</th>\n",
       "      <th>male</th>\n",
       "      <th>Q</th>\n",
       "      <th>S</th>\n",
       "    </tr>\n",
       "  </thead>\n",
       "  <tbody>\n",
       "    <tr>\n",
       "      <th>0</th>\n",
       "      <td>1</td>\n",
       "      <td>0</td>\n",
       "      <td>3</td>\n",
       "      <td>22.0</td>\n",
       "      <td>1</td>\n",
       "      <td>0</td>\n",
       "      <td>7.2500</td>\n",
       "      <td>1</td>\n",
       "      <td>0</td>\n",
       "      <td>1</td>\n",
       "    </tr>\n",
       "    <tr>\n",
       "      <th>1</th>\n",
       "      <td>2</td>\n",
       "      <td>1</td>\n",
       "      <td>1</td>\n",
       "      <td>38.0</td>\n",
       "      <td>1</td>\n",
       "      <td>0</td>\n",
       "      <td>71.2833</td>\n",
       "      <td>0</td>\n",
       "      <td>0</td>\n",
       "      <td>0</td>\n",
       "    </tr>\n",
       "    <tr>\n",
       "      <th>2</th>\n",
       "      <td>3</td>\n",
       "      <td>1</td>\n",
       "      <td>3</td>\n",
       "      <td>26.0</td>\n",
       "      <td>0</td>\n",
       "      <td>0</td>\n",
       "      <td>7.9250</td>\n",
       "      <td>0</td>\n",
       "      <td>0</td>\n",
       "      <td>1</td>\n",
       "    </tr>\n",
       "    <tr>\n",
       "      <th>3</th>\n",
       "      <td>4</td>\n",
       "      <td>1</td>\n",
       "      <td>1</td>\n",
       "      <td>35.0</td>\n",
       "      <td>1</td>\n",
       "      <td>0</td>\n",
       "      <td>53.1000</td>\n",
       "      <td>0</td>\n",
       "      <td>0</td>\n",
       "      <td>1</td>\n",
       "    </tr>\n",
       "    <tr>\n",
       "      <th>4</th>\n",
       "      <td>5</td>\n",
       "      <td>0</td>\n",
       "      <td>3</td>\n",
       "      <td>35.0</td>\n",
       "      <td>0</td>\n",
       "      <td>0</td>\n",
       "      <td>8.0500</td>\n",
       "      <td>1</td>\n",
       "      <td>0</td>\n",
       "      <td>1</td>\n",
       "    </tr>\n",
       "  </tbody>\n",
       "</table>\n",
       "</div>"
      ],
      "text/plain": [
       "   PassengerId  Survived  Pclass   Age  SibSp  Parch     Fare  male  Q  S\n",
       "0            1         0       3  22.0      1      0   7.2500     1  0  1\n",
       "1            2         1       1  38.0      1      0  71.2833     0  0  0\n",
       "2            3         1       3  26.0      0      0   7.9250     0  0  1\n",
       "3            4         1       1  35.0      1      0  53.1000     0  0  1\n",
       "4            5         0       3  35.0      0      0   8.0500     1  0  1"
      ]
     },
     "execution_count": 38,
     "metadata": {},
     "output_type": "execute_result"
    }
   ],
   "source": [
    "new_data.head()"
   ]
  },
  {
   "cell_type": "markdown",
   "id": "3dc0759b",
   "metadata": {
    "papermill": {
     "duration": 0.075734,
     "end_time": "2022-01-26T19:15:52.388567",
     "exception": false,
     "start_time": "2022-01-26T19:15:52.312833",
     "status": "completed"
    },
    "tags": []
   },
   "source": [
    "### Defined X value and y value , and split the data train"
   ]
  },
  {
   "cell_type": "code",
   "execution_count": 39,
   "id": "f4b787bf",
   "metadata": {
    "execution": {
     "iopub.execute_input": "2022-01-26T19:15:52.546279Z",
     "iopub.status.busy": "2022-01-26T19:15:52.545602Z",
     "iopub.status.idle": "2022-01-26T19:15:52.554574Z",
     "shell.execute_reply": "2022-01-26T19:15:52.555089Z",
     "shell.execute_reply.started": "2022-01-26T18:55:38.280227Z"
    },
    "papermill": {
     "duration": 0.088548,
     "end_time": "2022-01-26T19:15:52.555280",
     "exception": false,
     "start_time": "2022-01-26T19:15:52.466732",
     "status": "completed"
    },
    "tags": []
   },
   "outputs": [],
   "source": [
    "#Defined X value and y value , and split the data train\n",
    "\n",
    "X = new_data.drop(['Survived'],axis=1)\n",
    "y = new_data.Survived\n",
    "\n",
    "X_train, X_test, y_train, y_test = train_test_split(X,y, test_size=0.25, random_state=40)"
   ]
  },
  {
   "cell_type": "code",
   "execution_count": 40,
   "id": "8cf7bc8a",
   "metadata": {
    "execution": {
     "iopub.execute_input": "2022-01-26T19:15:52.710933Z",
     "iopub.status.busy": "2022-01-26T19:15:52.710094Z",
     "iopub.status.idle": "2022-01-26T19:15:52.714852Z",
     "shell.execute_reply": "2022-01-26T19:15:52.715225Z",
     "shell.execute_reply.started": "2022-01-26T18:56:02.713143Z"
    },
    "papermill": {
     "duration": 0.084995,
     "end_time": "2022-01-26T19:15:52.715368",
     "exception": false,
     "start_time": "2022-01-26T19:15:52.630373",
     "status": "completed"
    },
    "tags": []
   },
   "outputs": [
    {
     "name": "stdout",
     "output_type": "stream",
     "text": [
      "X Train :  (666, 9)\n",
      "X Test  :  (223, 9)\n",
      "Y Train :  (666,)\n",
      "Y Test  :  (223,)\n"
     ]
    }
   ],
   "source": [
    "print(\"X Train : \", X_train.shape)\n",
    "print(\"X Test  : \", X_test.shape)\n",
    "print(\"Y Train : \", y_train.shape)\n",
    "print(\"Y Test  : \", y_test.shape)"
   ]
  },
  {
   "cell_type": "markdown",
   "id": "72b76a9e",
   "metadata": {
    "papermill": {
     "duration": 0.04995,
     "end_time": "2022-01-26T19:15:52.815891",
     "exception": false,
     "start_time": "2022-01-26T19:15:52.765941",
     "status": "completed"
    },
    "tags": []
   },
   "source": [
    "## Model Training and Predicting\n"
   ]
  },
  {
   "cell_type": "code",
   "execution_count": 41,
   "id": "c45a8e95",
   "metadata": {
    "execution": {
     "iopub.execute_input": "2022-01-26T19:15:52.921569Z",
     "iopub.status.busy": "2022-01-26T19:15:52.920871Z",
     "iopub.status.idle": "2022-01-26T19:15:52.925692Z",
     "shell.execute_reply": "2022-01-26T19:15:52.925243Z",
     "shell.execute_reply.started": "2022-01-26T19:06:13.063740Z"
    },
    "papermill": {
     "duration": 0.059239,
     "end_time": "2022-01-26T19:15:52.925813",
     "exception": false,
     "start_time": "2022-01-26T19:15:52.866574",
     "status": "completed"
    },
    "tags": []
   },
   "outputs": [],
   "source": [
    "# Model Training and Predicting\n",
    "\n",
    "model=LinearRegression()\n"
   ]
  },
  {
   "cell_type": "code",
   "execution_count": 42,
   "id": "f8d5bc07",
   "metadata": {
    "execution": {
     "iopub.execute_input": "2022-01-26T19:15:53.031272Z",
     "iopub.status.busy": "2022-01-26T19:15:53.030569Z",
     "iopub.status.idle": "2022-01-26T19:15:53.054486Z",
     "shell.execute_reply": "2022-01-26T19:15:53.054971Z",
     "shell.execute_reply.started": "2022-01-26T19:06:16.021341Z"
    },
    "papermill": {
     "duration": 0.079066,
     "end_time": "2022-01-26T19:15:53.055108",
     "exception": false,
     "start_time": "2022-01-26T19:15:52.976042",
     "status": "completed"
    },
    "tags": []
   },
   "outputs": [
    {
     "data": {
      "text/plain": [
       "LinearRegression()"
      ]
     },
     "execution_count": 42,
     "metadata": {},
     "output_type": "execute_result"
    }
   ],
   "source": [
    "model.fit(X_train,y_train)"
   ]
  },
  {
   "cell_type": "code",
   "execution_count": 43,
   "id": "0c28a87a",
   "metadata": {
    "execution": {
     "iopub.execute_input": "2022-01-26T19:15:53.158084Z",
     "iopub.status.busy": "2022-01-26T19:15:53.157432Z",
     "iopub.status.idle": "2022-01-26T19:15:53.163753Z",
     "shell.execute_reply": "2022-01-26T19:15:53.164113Z",
     "shell.execute_reply.started": "2022-01-26T19:09:49.115522Z"
    },
    "papermill": {
     "duration": 0.059481,
     "end_time": "2022-01-26T19:15:53.164266",
     "exception": false,
     "start_time": "2022-01-26T19:15:53.104785",
     "status": "completed"
    },
    "tags": []
   },
   "outputs": [],
   "source": [
    "y_pre=model.predict(X_test)\n"
   ]
  },
  {
   "cell_type": "markdown",
   "id": "cae72165",
   "metadata": {
    "papermill": {
     "duration": 0.052093,
     "end_time": "2022-01-26T19:15:53.268298",
     "exception": false,
     "start_time": "2022-01-26T19:15:53.216205",
     "status": "completed"
    },
    "tags": []
   },
   "source": [
    "## Model Evaluation"
   ]
  },
  {
   "cell_type": "code",
   "execution_count": 44,
   "id": "c789003e",
   "metadata": {
    "execution": {
     "iopub.execute_input": "2022-01-26T19:15:53.375146Z",
     "iopub.status.busy": "2022-01-26T19:15:53.374458Z",
     "iopub.status.idle": "2022-01-26T19:15:53.377932Z",
     "shell.execute_reply": "2022-01-26T19:15:53.378423Z",
     "shell.execute_reply.started": "2022-01-26T19:13:18.299744Z"
    },
    "papermill": {
     "duration": 0.057765,
     "end_time": "2022-01-26T19:15:53.378568",
     "exception": false,
     "start_time": "2022-01-26T19:15:53.320803",
     "status": "completed"
    },
    "tags": []
   },
   "outputs": [],
   "source": [
    "from sklearn.metrics import mean_absolute_error"
   ]
  },
  {
   "cell_type": "code",
   "execution_count": 45,
   "id": "cdcf21da",
   "metadata": {
    "execution": {
     "iopub.execute_input": "2022-01-26T19:15:53.482870Z",
     "iopub.status.busy": "2022-01-26T19:15:53.482203Z",
     "iopub.status.idle": "2022-01-26T19:15:53.488300Z",
     "shell.execute_reply": "2022-01-26T19:15:53.488892Z",
     "shell.execute_reply.started": "2022-01-26T19:13:24.660866Z"
    },
    "papermill": {
     "duration": 0.061006,
     "end_time": "2022-01-26T19:15:53.489073",
     "exception": false,
     "start_time": "2022-01-26T19:15:53.428067",
     "status": "completed"
    },
    "tags": []
   },
   "outputs": [
    {
     "data": {
      "text/plain": [
       "0.30733588185107147"
      ]
     },
     "execution_count": 45,
     "metadata": {},
     "output_type": "execute_result"
    }
   ],
   "source": [
    "mean_absolute_error(y_test,y_pre)"
   ]
  },
  {
   "cell_type": "markdown",
   "id": "4db9b896",
   "metadata": {
    "papermill": {
     "duration": 0.07535,
     "end_time": "2022-01-26T19:15:53.641249",
     "exception": false,
     "start_time": "2022-01-26T19:15:53.565899",
     "status": "completed"
    },
    "tags": []
   },
   "source": [
    "###  Thank you for reading! 🙂"
   ]
  },
  {
   "cell_type": "code",
   "execution_count": null,
   "id": "99e13f12",
   "metadata": {
    "papermill": {
     "duration": 0.077311,
     "end_time": "2022-01-26T19:15:53.793541",
     "exception": false,
     "start_time": "2022-01-26T19:15:53.716230",
     "status": "completed"
    },
    "tags": []
   },
   "outputs": [],
   "source": []
  },
  {
   "cell_type": "markdown",
   "id": "91aeb33a",
   "metadata": {
    "papermill": {
     "duration": 0.077222,
     "end_time": "2022-01-26T19:15:53.947661",
     "exception": false,
     "start_time": "2022-01-26T19:15:53.870439",
     "status": "completed"
    },
    "tags": []
   },
   "source": []
  }
 ],
 "metadata": {
  "kernelspec": {
   "display_name": "Python 3",
   "language": "python",
   "name": "python3"
  },
  "language_info": {
   "codemirror_mode": {
    "name": "ipython",
    "version": 3
   },
   "file_extension": ".py",
   "mimetype": "text/x-python",
   "name": "python",
   "nbconvert_exporter": "python",
   "pygments_lexer": "ipython3",
   "version": "3.7.12"
  },
  "papermill": {
   "default_parameters": {},
   "duration": 25.415311,
   "end_time": "2022-01-26T19:15:55.239739",
   "environment_variables": {},
   "exception": null,
   "input_path": "__notebook__.ipynb",
   "output_path": "__notebook__.ipynb",
   "parameters": {},
   "start_time": "2022-01-26T19:15:29.824428",
   "version": "2.3.3"
  }
 },
 "nbformat": 4,
 "nbformat_minor": 5
}
